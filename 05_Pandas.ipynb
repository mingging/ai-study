{
  "nbformat": 4,
  "nbformat_minor": 0,
  "metadata": {
    "colab": {
      "name": "05.Pandas.ipynb",
      "provenance": [],
      "collapsed_sections": [],
      "authorship_tag": "ABX9TyMIU6BNId8wVzHbagrB1bL1",
      "include_colab_link": true
    },
    "kernelspec": {
      "name": "python3",
      "display_name": "Python 3"
    },
    "language_info": {
      "name": "python"
    }
  },
  "cells": [
    {
      "cell_type": "markdown",
      "metadata": {
        "id": "view-in-github",
        "colab_type": "text"
      },
      "source": [
        "<a href=\"https://colab.research.google.com/github/minimanin/ai-study/blob/master/05_Pandas.ipynb\" target=\"_parent\"><img src=\"https://colab.research.google.com/assets/colab-badge.svg\" alt=\"Open In Colab\"/></a>"
      ]
    },
    {
      "cell_type": "code",
      "metadata": {
        "id": "eq91hP9sI1O9"
      },
      "source": [
        "# Series, DataFrame"
      ],
      "execution_count": 1,
      "outputs": []
    },
    {
      "cell_type": "code",
      "metadata": {
        "id": "K5yvMvq7JN0x"
      },
      "source": [
        "from pandas import Series, DataFrame\n",
        "import pandas as pd"
      ],
      "execution_count": 2,
      "outputs": []
    },
    {
      "cell_type": "code",
      "metadata": {
        "id": "j8VI-gQTJdIt"
      },
      "source": [
        "# !pip install pandas"
      ],
      "execution_count": 3,
      "outputs": []
    },
    {
      "cell_type": "code",
      "metadata": {
        "id": "R_JfhCBUJsii"
      },
      "source": [
        "fruit = Series([2500, 3800, 1200, 6000], index=['apple', 'banana', 'pear', 'cherry'])"
      ],
      "execution_count": 4,
      "outputs": []
    },
    {
      "cell_type": "code",
      "metadata": {
        "colab": {
          "base_uri": "https://localhost:8080/"
        },
        "id": "pxgKsGftJzJ8",
        "outputId": "8c93bcd8-0bed-4dde-da2c-6b17bbe6254d"
      },
      "source": [
        "print(fruit)"
      ],
      "execution_count": 5,
      "outputs": [
        {
          "output_type": "stream",
          "name": "stdout",
          "text": [
            "apple     2500\n",
            "banana    3800\n",
            "pear      1200\n",
            "cherry    6000\n",
            "dtype: int64\n"
          ]
        }
      ]
    },
    {
      "cell_type": "code",
      "metadata": {
        "colab": {
          "base_uri": "https://localhost:8080/"
        },
        "id": "NsuI5e7VKt6L",
        "outputId": "cf78c494-7c1d-465d-a74c-ea1660307037"
      },
      "source": [
        " print(fruit.values)"
      ],
      "execution_count": 6,
      "outputs": [
        {
          "output_type": "stream",
          "name": "stdout",
          "text": [
            "[2500 3800 1200 6000]\n"
          ]
        }
      ]
    },
    {
      "cell_type": "code",
      "metadata": {
        "colab": {
          "base_uri": "https://localhost:8080/"
        },
        "id": "uOsKZD0NLBbd",
        "outputId": "9b97b80b-9e40-41ff-965e-87148a18fadc"
      },
      "source": [
        "print(fruit.index)"
      ],
      "execution_count": 7,
      "outputs": [
        {
          "output_type": "stream",
          "name": "stdout",
          "text": [
            "Index(['apple', 'banana', 'pear', 'cherry'], dtype='object')\n"
          ]
        }
      ]
    },
    {
      "cell_type": "code",
      "metadata": {
        "id": "skePqgV7LNVU"
      },
      "source": [
        "fruitData = {'apple':2500, 'banana':3800, 'pear':1200, 'cherry':6000}"
      ],
      "execution_count": 8,
      "outputs": []
    },
    {
      "cell_type": "code",
      "metadata": {
        "colab": {
          "base_uri": "https://localhost:8080/"
        },
        "id": "-GblxLM3Ljnw",
        "outputId": "2901d3d5-7fa4-4f78-b755-e4f2e6077f38"
      },
      "source": [
        "type(fruitData)"
      ],
      "execution_count": 9,
      "outputs": [
        {
          "output_type": "execute_result",
          "data": {
            "text/plain": [
              "dict"
            ]
          },
          "metadata": {},
          "execution_count": 9
        }
      ]
    },
    {
      "cell_type": "code",
      "metadata": {
        "id": "GLYEZA4tLqtn"
      },
      "source": [
        "fruit = Series(fruitData)"
      ],
      "execution_count": 10,
      "outputs": []
    },
    {
      "cell_type": "code",
      "metadata": {
        "id": "yLGdDkenLvwx"
      },
      "source": [
        "fruit.name = 'fruitPrice'"
      ],
      "execution_count": 11,
      "outputs": []
    },
    {
      "cell_type": "code",
      "metadata": {
        "colab": {
          "base_uri": "https://localhost:8080/"
        },
        "id": "5eTEyR1-QSc5",
        "outputId": "f1c5183c-6776-47b8-97bc-2870b4190582"
      },
      "source": [
        "fruit"
      ],
      "execution_count": 12,
      "outputs": [
        {
          "output_type": "execute_result",
          "data": {
            "text/plain": [
              "apple     2500\n",
              "banana    3800\n",
              "pear      1200\n",
              "cherry    6000\n",
              "Name: fruitPrice, dtype: int64"
            ]
          },
          "metadata": {},
          "execution_count": 12
        }
      ]
    },
    {
      "cell_type": "code",
      "metadata": {
        "id": "6tO_aLXOQS9T"
      },
      "source": [
        "fruit.index.name = 'fruitPrice'"
      ],
      "execution_count": 13,
      "outputs": []
    },
    {
      "cell_type": "code",
      "metadata": {
        "colab": {
          "base_uri": "https://localhost:8080/"
        },
        "id": "DSCj014TQZuY",
        "outputId": "7d6c1c9e-ea34-44cd-ff2d-9fce04b3bf67"
      },
      "source": [
        "fruit"
      ],
      "execution_count": 14,
      "outputs": [
        {
          "output_type": "execute_result",
          "data": {
            "text/plain": [
              "fruitPrice\n",
              "apple     2500\n",
              "banana    3800\n",
              "pear      1200\n",
              "cherry    6000\n",
              "Name: fruitPrice, dtype: int64"
            ]
          },
          "metadata": {},
          "execution_count": 14
        }
      ]
    },
    {
      "cell_type": "code",
      "metadata": {
        "id": "v8TkdSkiQacU"
      },
      "source": [
        "# Dataframe"
      ],
      "execution_count": 15,
      "outputs": []
    },
    {
      "cell_type": "code",
      "metadata": {
        "id": "rv1lBhzMQqib"
      },
      "source": [
        "fruitData = {'fruitName':['apple', 'banana', 'cherry', 'pear'],\n",
        "             'fruitPrice':[2500, 2800, 6000, 1200],\n",
        "             'num':[10,5,3,8]\n",
        "             }"
      ],
      "execution_count": 16,
      "outputs": []
    },
    {
      "cell_type": "code",
      "metadata": {
        "colab": {
          "base_uri": "https://localhost:8080/"
        },
        "id": "G-k5Gv2LRKQB",
        "outputId": "06def926-0f83-4525-b562-0cd6856ab51a"
      },
      "source": [
        "type(fruitData)"
      ],
      "execution_count": 17,
      "outputs": [
        {
          "output_type": "execute_result",
          "data": {
            "text/plain": [
              "dict"
            ]
          },
          "metadata": {},
          "execution_count": 17
        }
      ]
    },
    {
      "cell_type": "code",
      "metadata": {
        "id": "XDntf9XwRVBn"
      },
      "source": [
        "fruitFrame = DataFrame(fruitData)"
      ],
      "execution_count": 18,
      "outputs": []
    },
    {
      "cell_type": "code",
      "metadata": {
        "colab": {
          "base_uri": "https://localhost:8080/",
          "height": 173
        },
        "id": "yl2Ha_BuRdi9",
        "outputId": "0e59f0ea-1baa-41e3-e85b-00a744ac4f21"
      },
      "source": [
        "fruitFrame"
      ],
      "execution_count": 19,
      "outputs": [
        {
          "output_type": "execute_result",
          "data": {
            "text/html": [
              "<div>\n",
              "<style scoped>\n",
              "    .dataframe tbody tr th:only-of-type {\n",
              "        vertical-align: middle;\n",
              "    }\n",
              "\n",
              "    .dataframe tbody tr th {\n",
              "        vertical-align: top;\n",
              "    }\n",
              "\n",
              "    .dataframe thead th {\n",
              "        text-align: right;\n",
              "    }\n",
              "</style>\n",
              "<table border=\"1\" class=\"dataframe\">\n",
              "  <thead>\n",
              "    <tr style=\"text-align: right;\">\n",
              "      <th></th>\n",
              "      <th>fruitName</th>\n",
              "      <th>fruitPrice</th>\n",
              "      <th>num</th>\n",
              "    </tr>\n",
              "  </thead>\n",
              "  <tbody>\n",
              "    <tr>\n",
              "      <th>0</th>\n",
              "      <td>apple</td>\n",
              "      <td>2500</td>\n",
              "      <td>10</td>\n",
              "    </tr>\n",
              "    <tr>\n",
              "      <th>1</th>\n",
              "      <td>banana</td>\n",
              "      <td>2800</td>\n",
              "      <td>5</td>\n",
              "    </tr>\n",
              "    <tr>\n",
              "      <th>2</th>\n",
              "      <td>cherry</td>\n",
              "      <td>6000</td>\n",
              "      <td>3</td>\n",
              "    </tr>\n",
              "    <tr>\n",
              "      <th>3</th>\n",
              "      <td>pear</td>\n",
              "      <td>1200</td>\n",
              "      <td>8</td>\n",
              "    </tr>\n",
              "  </tbody>\n",
              "</table>\n",
              "</div>"
            ],
            "text/plain": [
              "  fruitName  fruitPrice  num\n",
              "0     apple        2500   10\n",
              "1    banana        2800    5\n",
              "2    cherry        6000    3\n",
              "3      pear        1200    8"
            ]
          },
          "metadata": {},
          "execution_count": 19
        }
      ]
    },
    {
      "cell_type": "code",
      "metadata": {
        "id": "erKKgpoOReui"
      },
      "source": [
        "fruitFrame = DataFrame(fruitData, columns=['fruitPrice', 'num', 'fruitName'])"
      ],
      "execution_count": 20,
      "outputs": []
    },
    {
      "cell_type": "code",
      "metadata": {
        "colab": {
          "base_uri": "https://localhost:8080/",
          "height": 173
        },
        "id": "0AOwLvcxSKiM",
        "outputId": "41016944-42b4-4871-98d8-be6b0a31fa87"
      },
      "source": [
        "fruitFrame"
      ],
      "execution_count": 21,
      "outputs": [
        {
          "output_type": "execute_result",
          "data": {
            "text/html": [
              "<div>\n",
              "<style scoped>\n",
              "    .dataframe tbody tr th:only-of-type {\n",
              "        vertical-align: middle;\n",
              "    }\n",
              "\n",
              "    .dataframe tbody tr th {\n",
              "        vertical-align: top;\n",
              "    }\n",
              "\n",
              "    .dataframe thead th {\n",
              "        text-align: right;\n",
              "    }\n",
              "</style>\n",
              "<table border=\"1\" class=\"dataframe\">\n",
              "  <thead>\n",
              "    <tr style=\"text-align: right;\">\n",
              "      <th></th>\n",
              "      <th>fruitPrice</th>\n",
              "      <th>num</th>\n",
              "      <th>fruitName</th>\n",
              "    </tr>\n",
              "  </thead>\n",
              "  <tbody>\n",
              "    <tr>\n",
              "      <th>0</th>\n",
              "      <td>2500</td>\n",
              "      <td>10</td>\n",
              "      <td>apple</td>\n",
              "    </tr>\n",
              "    <tr>\n",
              "      <th>1</th>\n",
              "      <td>2800</td>\n",
              "      <td>5</td>\n",
              "      <td>banana</td>\n",
              "    </tr>\n",
              "    <tr>\n",
              "      <th>2</th>\n",
              "      <td>6000</td>\n",
              "      <td>3</td>\n",
              "      <td>cherry</td>\n",
              "    </tr>\n",
              "    <tr>\n",
              "      <th>3</th>\n",
              "      <td>1200</td>\n",
              "      <td>8</td>\n",
              "      <td>pear</td>\n",
              "    </tr>\n",
              "  </tbody>\n",
              "</table>\n",
              "</div>"
            ],
            "text/plain": [
              "   fruitPrice  num fruitName\n",
              "0        2500   10     apple\n",
              "1        2800    5    banana\n",
              "2        6000    3    cherry\n",
              "3        1200    8      pear"
            ]
          },
          "metadata": {},
          "execution_count": 21
        }
      ]
    },
    {
      "cell_type": "code",
      "metadata": {
        "colab": {
          "base_uri": "https://localhost:8080/"
        },
        "id": "Ly5IkkOlSLtO",
        "outputId": "f4edc811-c8be-40a9-e364-2c77716a2f99"
      },
      "source": [
        "fruitFrame['fruitName']"
      ],
      "execution_count": 22,
      "outputs": [
        {
          "output_type": "execute_result",
          "data": {
            "text/plain": [
              "0     apple\n",
              "1    banana\n",
              "2    cherry\n",
              "3      pear\n",
              "Name: fruitName, dtype: object"
            ]
          },
          "metadata": {},
          "execution_count": 22
        }
      ]
    },
    {
      "cell_type": "code",
      "metadata": {
        "colab": {
          "base_uri": "https://localhost:8080/"
        },
        "id": "19eXQ6zrShBU",
        "outputId": "b2e2bdac-2baa-4ec2-e066-fce9c181fb86"
      },
      "source": [
        "fruitFrame.fruitName"
      ],
      "execution_count": 23,
      "outputs": [
        {
          "output_type": "execute_result",
          "data": {
            "text/plain": [
              "0     apple\n",
              "1    banana\n",
              "2    cherry\n",
              "3      pear\n",
              "Name: fruitName, dtype: object"
            ]
          },
          "metadata": {},
          "execution_count": 23
        }
      ]
    },
    {
      "cell_type": "code",
      "metadata": {
        "id": "FIGwR9kUS2gl"
      },
      "source": [
        "fruitFrame['Year']='2016'"
      ],
      "execution_count": 24,
      "outputs": []
    },
    {
      "cell_type": "code",
      "metadata": {
        "colab": {
          "base_uri": "https://localhost:8080/",
          "height": 173
        },
        "id": "ZQRknx7jTDfJ",
        "outputId": "f81ddc9a-a4ce-4f02-c900-340e6c62fce7"
      },
      "source": [
        "fruitFrame"
      ],
      "execution_count": 25,
      "outputs": [
        {
          "output_type": "execute_result",
          "data": {
            "text/html": [
              "<div>\n",
              "<style scoped>\n",
              "    .dataframe tbody tr th:only-of-type {\n",
              "        vertical-align: middle;\n",
              "    }\n",
              "\n",
              "    .dataframe tbody tr th {\n",
              "        vertical-align: top;\n",
              "    }\n",
              "\n",
              "    .dataframe thead th {\n",
              "        text-align: right;\n",
              "    }\n",
              "</style>\n",
              "<table border=\"1\" class=\"dataframe\">\n",
              "  <thead>\n",
              "    <tr style=\"text-align: right;\">\n",
              "      <th></th>\n",
              "      <th>fruitPrice</th>\n",
              "      <th>num</th>\n",
              "      <th>fruitName</th>\n",
              "      <th>Year</th>\n",
              "    </tr>\n",
              "  </thead>\n",
              "  <tbody>\n",
              "    <tr>\n",
              "      <th>0</th>\n",
              "      <td>2500</td>\n",
              "      <td>10</td>\n",
              "      <td>apple</td>\n",
              "      <td>2016</td>\n",
              "    </tr>\n",
              "    <tr>\n",
              "      <th>1</th>\n",
              "      <td>2800</td>\n",
              "      <td>5</td>\n",
              "      <td>banana</td>\n",
              "      <td>2016</td>\n",
              "    </tr>\n",
              "    <tr>\n",
              "      <th>2</th>\n",
              "      <td>6000</td>\n",
              "      <td>3</td>\n",
              "      <td>cherry</td>\n",
              "      <td>2016</td>\n",
              "    </tr>\n",
              "    <tr>\n",
              "      <th>3</th>\n",
              "      <td>1200</td>\n",
              "      <td>8</td>\n",
              "      <td>pear</td>\n",
              "      <td>2016</td>\n",
              "    </tr>\n",
              "  </tbody>\n",
              "</table>\n",
              "</div>"
            ],
            "text/plain": [
              "   fruitPrice  num fruitName  Year\n",
              "0        2500   10     apple  2016\n",
              "1        2800    5    banana  2016\n",
              "2        6000    3    cherry  2016\n",
              "3        1200    8      pear  2016"
            ]
          },
          "metadata": {},
          "execution_count": 25
        }
      ]
    },
    {
      "cell_type": "code",
      "metadata": {
        "id": "lE60ghUYTE7j"
      },
      "source": [
        "variable = Series([4,2,1], index = [0,2,3])"
      ],
      "execution_count": 26,
      "outputs": []
    },
    {
      "cell_type": "code",
      "metadata": {
        "id": "jKIDIVDKTfTw"
      },
      "source": [
        "fruitFrame['stock'] = variable"
      ],
      "execution_count": 27,
      "outputs": []
    },
    {
      "cell_type": "code",
      "metadata": {
        "colab": {
          "base_uri": "https://localhost:8080/",
          "height": 173
        },
        "id": "1r-dcQ_-TzAu",
        "outputId": "e5d6689d-e776-4cdb-c364-a130d2f9dac6"
      },
      "source": [
        "fruitFrame"
      ],
      "execution_count": 28,
      "outputs": [
        {
          "output_type": "execute_result",
          "data": {
            "text/html": [
              "<div>\n",
              "<style scoped>\n",
              "    .dataframe tbody tr th:only-of-type {\n",
              "        vertical-align: middle;\n",
              "    }\n",
              "\n",
              "    .dataframe tbody tr th {\n",
              "        vertical-align: top;\n",
              "    }\n",
              "\n",
              "    .dataframe thead th {\n",
              "        text-align: right;\n",
              "    }\n",
              "</style>\n",
              "<table border=\"1\" class=\"dataframe\">\n",
              "  <thead>\n",
              "    <tr style=\"text-align: right;\">\n",
              "      <th></th>\n",
              "      <th>fruitPrice</th>\n",
              "      <th>num</th>\n",
              "      <th>fruitName</th>\n",
              "      <th>Year</th>\n",
              "      <th>stock</th>\n",
              "    </tr>\n",
              "  </thead>\n",
              "  <tbody>\n",
              "    <tr>\n",
              "      <th>0</th>\n",
              "      <td>2500</td>\n",
              "      <td>10</td>\n",
              "      <td>apple</td>\n",
              "      <td>2016</td>\n",
              "      <td>4.0</td>\n",
              "    </tr>\n",
              "    <tr>\n",
              "      <th>1</th>\n",
              "      <td>2800</td>\n",
              "      <td>5</td>\n",
              "      <td>banana</td>\n",
              "      <td>2016</td>\n",
              "      <td>NaN</td>\n",
              "    </tr>\n",
              "    <tr>\n",
              "      <th>2</th>\n",
              "      <td>6000</td>\n",
              "      <td>3</td>\n",
              "      <td>cherry</td>\n",
              "      <td>2016</td>\n",
              "      <td>2.0</td>\n",
              "    </tr>\n",
              "    <tr>\n",
              "      <th>3</th>\n",
              "      <td>1200</td>\n",
              "      <td>8</td>\n",
              "      <td>pear</td>\n",
              "      <td>2016</td>\n",
              "      <td>1.0</td>\n",
              "    </tr>\n",
              "  </tbody>\n",
              "</table>\n",
              "</div>"
            ],
            "text/plain": [
              "   fruitPrice  num fruitName  Year  stock\n",
              "0        2500   10     apple  2016    4.0\n",
              "1        2800    5    banana  2016    NaN\n",
              "2        6000    3    cherry  2016    2.0\n",
              "3        1200    8      pear  2016    1.0"
            ]
          },
          "metadata": {},
          "execution_count": 28
        }
      ]
    },
    {
      "cell_type": "code",
      "metadata": {
        "id": "Fp2wnW0DT1F-"
      },
      "source": [
        "fruit = Series([2500, 3800, 1200, 6000], index=['apple', 'banana', 'pear', 'cherry'])"
      ],
      "execution_count": 29,
      "outputs": []
    },
    {
      "cell_type": "code",
      "metadata": {
        "id": "0f55obRFUhBm"
      },
      "source": [
        "new_fruit = fruit.drop('banana')"
      ],
      "execution_count": 30,
      "outputs": []
    },
    {
      "cell_type": "code",
      "metadata": {
        "colab": {
          "base_uri": "https://localhost:8080/"
        },
        "id": "6k_MHnL8Us0v",
        "outputId": "02dcf17a-8a7d-4d4e-ab10-bba01d8cc20f"
      },
      "source": [
        "new_fruit"
      ],
      "execution_count": 31,
      "outputs": [
        {
          "output_type": "execute_result",
          "data": {
            "text/plain": [
              "apple     2500\n",
              "pear      1200\n",
              "cherry    6000\n",
              "dtype: int64"
            ]
          },
          "metadata": {},
          "execution_count": 31
        }
      ]
    },
    {
      "cell_type": "code",
      "metadata": {
        "id": "ItirkIxCUtiE"
      },
      "source": [
        "fruitData = {'fruitName':['apple', 'banana', 'pear', 'cherry'], 'fruitPrice':[2500, 3800, 6000, 1200], 'num':[10,5,3,8]}"
      ],
      "execution_count": 32,
      "outputs": []
    },
    {
      "cell_type": "code",
      "metadata": {
        "id": "A3T3wiqWVM4i"
      },
      "source": [
        "fruitName = fruitData['fruitName']"
      ],
      "execution_count": 33,
      "outputs": []
    },
    {
      "cell_type": "code",
      "metadata": {
        "colab": {
          "base_uri": "https://localhost:8080/"
        },
        "id": "dm8FqxrnVTHr",
        "outputId": "aad023d1-500d-421b-b04c-f80991be841d"
      },
      "source": [
        "fruitName"
      ],
      "execution_count": 34,
      "outputs": [
        {
          "output_type": "execute_result",
          "data": {
            "text/plain": [
              "['apple', 'banana', 'pear', 'cherry']"
            ]
          },
          "metadata": {},
          "execution_count": 34
        }
      ]
    },
    {
      "cell_type": "code",
      "metadata": {
        "id": "TYxR9pTUV53B"
      },
      "source": [
        "fruitFrame = DataFrame(fruitData, index = fruitName, columns=['fruitPrice', 'num'])"
      ],
      "execution_count": 35,
      "outputs": []
    },
    {
      "cell_type": "code",
      "metadata": {
        "colab": {
          "base_uri": "https://localhost:8080/",
          "height": 173
        },
        "id": "4S1iZSOlWOEL",
        "outputId": "b22f0244-faf7-4d64-b2b9-a5369ce660b5"
      },
      "source": [
        "fruitFrame"
      ],
      "execution_count": 36,
      "outputs": [
        {
          "output_type": "execute_result",
          "data": {
            "text/html": [
              "<div>\n",
              "<style scoped>\n",
              "    .dataframe tbody tr th:only-of-type {\n",
              "        vertical-align: middle;\n",
              "    }\n",
              "\n",
              "    .dataframe tbody tr th {\n",
              "        vertical-align: top;\n",
              "    }\n",
              "\n",
              "    .dataframe thead th {\n",
              "        text-align: right;\n",
              "    }\n",
              "</style>\n",
              "<table border=\"1\" class=\"dataframe\">\n",
              "  <thead>\n",
              "    <tr style=\"text-align: right;\">\n",
              "      <th></th>\n",
              "      <th>fruitPrice</th>\n",
              "      <th>num</th>\n",
              "    </tr>\n",
              "  </thead>\n",
              "  <tbody>\n",
              "    <tr>\n",
              "      <th>apple</th>\n",
              "      <td>2500</td>\n",
              "      <td>10</td>\n",
              "    </tr>\n",
              "    <tr>\n",
              "      <th>banana</th>\n",
              "      <td>3800</td>\n",
              "      <td>5</td>\n",
              "    </tr>\n",
              "    <tr>\n",
              "      <th>pear</th>\n",
              "      <td>6000</td>\n",
              "      <td>3</td>\n",
              "    </tr>\n",
              "    <tr>\n",
              "      <th>cherry</th>\n",
              "      <td>1200</td>\n",
              "      <td>8</td>\n",
              "    </tr>\n",
              "  </tbody>\n",
              "</table>\n",
              "</div>"
            ],
            "text/plain": [
              "        fruitPrice  num\n",
              "apple         2500   10\n",
              "banana        3800    5\n",
              "pear          6000    3\n",
              "cherry        1200    8"
            ]
          },
          "metadata": {},
          "execution_count": 36
        }
      ]
    },
    {
      "cell_type": "code",
      "metadata": {
        "id": "0rc4jTQdWSKR"
      },
      "source": [
        "fruitFrame2 = fruitFrame.drop(['apple', 'cherry'])"
      ],
      "execution_count": 37,
      "outputs": []
    },
    {
      "cell_type": "code",
      "metadata": {
        "colab": {
          "base_uri": "https://localhost:8080/",
          "height": 111
        },
        "id": "a6zEWHmwW3ks",
        "outputId": "1cb38150-077b-463e-be83-529ead963fef"
      },
      "source": [
        "fruitFrame2"
      ],
      "execution_count": 38,
      "outputs": [
        {
          "output_type": "execute_result",
          "data": {
            "text/html": [
              "<div>\n",
              "<style scoped>\n",
              "    .dataframe tbody tr th:only-of-type {\n",
              "        vertical-align: middle;\n",
              "    }\n",
              "\n",
              "    .dataframe tbody tr th {\n",
              "        vertical-align: top;\n",
              "    }\n",
              "\n",
              "    .dataframe thead th {\n",
              "        text-align: right;\n",
              "    }\n",
              "</style>\n",
              "<table border=\"1\" class=\"dataframe\">\n",
              "  <thead>\n",
              "    <tr style=\"text-align: right;\">\n",
              "      <th></th>\n",
              "      <th>fruitPrice</th>\n",
              "      <th>num</th>\n",
              "    </tr>\n",
              "  </thead>\n",
              "  <tbody>\n",
              "    <tr>\n",
              "      <th>banana</th>\n",
              "      <td>3800</td>\n",
              "      <td>5</td>\n",
              "    </tr>\n",
              "    <tr>\n",
              "      <th>pear</th>\n",
              "      <td>6000</td>\n",
              "      <td>3</td>\n",
              "    </tr>\n",
              "  </tbody>\n",
              "</table>\n",
              "</div>"
            ],
            "text/plain": [
              "        fruitPrice  num\n",
              "banana        3800    5\n",
              "pear          6000    3"
            ]
          },
          "metadata": {},
          "execution_count": 38
        }
      ]
    },
    {
      "cell_type": "code",
      "metadata": {
        "id": "IsJZXXXFW7zN"
      },
      "source": [
        "fruitFrame3 = fruitFrame.drop(['num'], axis=1)"
      ],
      "execution_count": 39,
      "outputs": []
    },
    {
      "cell_type": "code",
      "metadata": {
        "colab": {
          "base_uri": "https://localhost:8080/",
          "height": 173
        },
        "id": "9dtC3kG6bEB3",
        "outputId": "8ccb3357-ce01-4e6b-a74a-e5934c7b0752"
      },
      "source": [
        "fruitFrame3"
      ],
      "execution_count": 40,
      "outputs": [
        {
          "output_type": "execute_result",
          "data": {
            "text/html": [
              "<div>\n",
              "<style scoped>\n",
              "    .dataframe tbody tr th:only-of-type {\n",
              "        vertical-align: middle;\n",
              "    }\n",
              "\n",
              "    .dataframe tbody tr th {\n",
              "        vertical-align: top;\n",
              "    }\n",
              "\n",
              "    .dataframe thead th {\n",
              "        text-align: right;\n",
              "    }\n",
              "</style>\n",
              "<table border=\"1\" class=\"dataframe\">\n",
              "  <thead>\n",
              "    <tr style=\"text-align: right;\">\n",
              "      <th></th>\n",
              "      <th>fruitPrice</th>\n",
              "    </tr>\n",
              "  </thead>\n",
              "  <tbody>\n",
              "    <tr>\n",
              "      <th>apple</th>\n",
              "      <td>2500</td>\n",
              "    </tr>\n",
              "    <tr>\n",
              "      <th>banana</th>\n",
              "      <td>3800</td>\n",
              "    </tr>\n",
              "    <tr>\n",
              "      <th>pear</th>\n",
              "      <td>6000</td>\n",
              "    </tr>\n",
              "    <tr>\n",
              "      <th>cherry</th>\n",
              "      <td>1200</td>\n",
              "    </tr>\n",
              "  </tbody>\n",
              "</table>\n",
              "</div>"
            ],
            "text/plain": [
              "        fruitPrice\n",
              "apple         2500\n",
              "banana        3800\n",
              "pear          6000\n",
              "cherry        1200"
            ]
          },
          "metadata": {},
          "execution_count": 40
        }
      ]
    },
    {
      "cell_type": "code",
      "metadata": {
        "colab": {
          "base_uri": "https://localhost:8080/",
          "height": 142
        },
        "id": "UimMFRggbqmF",
        "outputId": "75eaff3f-d4c3-4933-d5a2-35567daf3495"
      },
      "source": [
        "fruitFrame['apple':'pear']"
      ],
      "execution_count": 41,
      "outputs": [
        {
          "output_type": "execute_result",
          "data": {
            "text/html": [
              "<div>\n",
              "<style scoped>\n",
              "    .dataframe tbody tr th:only-of-type {\n",
              "        vertical-align: middle;\n",
              "    }\n",
              "\n",
              "    .dataframe tbody tr th {\n",
              "        vertical-align: top;\n",
              "    }\n",
              "\n",
              "    .dataframe thead th {\n",
              "        text-align: right;\n",
              "    }\n",
              "</style>\n",
              "<table border=\"1\" class=\"dataframe\">\n",
              "  <thead>\n",
              "    <tr style=\"text-align: right;\">\n",
              "      <th></th>\n",
              "      <th>fruitPrice</th>\n",
              "      <th>num</th>\n",
              "    </tr>\n",
              "  </thead>\n",
              "  <tbody>\n",
              "    <tr>\n",
              "      <th>apple</th>\n",
              "      <td>2500</td>\n",
              "      <td>10</td>\n",
              "    </tr>\n",
              "    <tr>\n",
              "      <th>banana</th>\n",
              "      <td>3800</td>\n",
              "      <td>5</td>\n",
              "    </tr>\n",
              "    <tr>\n",
              "      <th>pear</th>\n",
              "      <td>6000</td>\n",
              "      <td>3</td>\n",
              "    </tr>\n",
              "  </tbody>\n",
              "</table>\n",
              "</div>"
            ],
            "text/plain": [
              "        fruitPrice  num\n",
              "apple         2500   10\n",
              "banana        3800    5\n",
              "pear          6000    3"
            ]
          },
          "metadata": {},
          "execution_count": 41
        }
      ]
    },
    {
      "cell_type": "code",
      "metadata": {
        "id": "sggNMwMRb-4f"
      },
      "source": [
        "a = [1,2,3,4,5]"
      ],
      "execution_count": 42,
      "outputs": []
    },
    {
      "cell_type": "code",
      "metadata": {
        "id": "qwgUg6ZRcvTx"
      },
      "source": [
        "b = a[:]"
      ],
      "execution_count": 43,
      "outputs": []
    },
    {
      "cell_type": "code",
      "metadata": {
        "id": "UwGODvCccv1f"
      },
      "source": [
        "b[0] = 916"
      ],
      "execution_count": 44,
      "outputs": []
    },
    {
      "cell_type": "code",
      "metadata": {
        "colab": {
          "base_uri": "https://localhost:8080/"
        },
        "id": "kZNuQZkBcxTR",
        "outputId": "63ed2bb9-3da8-4420-b0b5-47b378786597"
      },
      "source": [
        "b"
      ],
      "execution_count": 45,
      "outputs": [
        {
          "output_type": "execute_result",
          "data": {
            "text/plain": [
              "[916, 2, 3, 4, 5]"
            ]
          },
          "metadata": {},
          "execution_count": 45
        }
      ]
    },
    {
      "cell_type": "code",
      "metadata": {
        "colab": {
          "base_uri": "https://localhost:8080/"
        },
        "id": "C82WfQVscx6f",
        "outputId": "c9c83d0e-6b83-4efd-f40d-8678d3ef10b6"
      },
      "source": [
        "a"
      ],
      "execution_count": 46,
      "outputs": [
        {
          "output_type": "execute_result",
          "data": {
            "text/plain": [
              "[1, 2, 3, 4, 5]"
            ]
          },
          "metadata": {},
          "execution_count": 46
        }
      ]
    },
    {
      "cell_type": "code",
      "metadata": {
        "colab": {
          "base_uri": "https://localhost:8080/"
        },
        "id": "BffvXQXXcz_0",
        "outputId": "1b489175-c9b3-4ecb-f2e5-22b181d64806"
      },
      "source": [
        "fruitFrame['fruitPrice']"
      ],
      "execution_count": 47,
      "outputs": [
        {
          "output_type": "execute_result",
          "data": {
            "text/plain": [
              "apple     2500\n",
              "banana    3800\n",
              "pear      6000\n",
              "cherry    1200\n",
              "Name: fruitPrice, dtype: int64"
            ]
          },
          "metadata": {},
          "execution_count": 47
        }
      ]
    },
    {
      "cell_type": "code",
      "metadata": {
        "id": "axS2vHckdsxj"
      },
      "source": [
        "fruit1 = Series([5,9,10,3], index=['apple', 'banana', 'cherry', 'pear'])"
      ],
      "execution_count": 48,
      "outputs": []
    },
    {
      "cell_type": "code",
      "metadata": {
        "id": "Uh2IkJwxd66E"
      },
      "source": [
        "fruit2 = Series([3,2,9,5,10], index=['apple', 'orange', 'banana', 'cherry', 'mango'])"
      ],
      "execution_count": 49,
      "outputs": []
    },
    {
      "cell_type": "code",
      "metadata": {
        "colab": {
          "base_uri": "https://localhost:8080/"
        },
        "id": "78Pfesrjeacc",
        "outputId": "f0a36f1c-e827-494b-eac5-b9d8d3978028"
      },
      "source": [
        "fruit1"
      ],
      "execution_count": 50,
      "outputs": [
        {
          "output_type": "execute_result",
          "data": {
            "text/plain": [
              "apple      5\n",
              "banana     9\n",
              "cherry    10\n",
              "pear       3\n",
              "dtype: int64"
            ]
          },
          "metadata": {},
          "execution_count": 50
        }
      ]
    },
    {
      "cell_type": "code",
      "metadata": {
        "colab": {
          "base_uri": "https://localhost:8080/"
        },
        "id": "u6pMjgtyekiS",
        "outputId": "7d9fa8b3-2071-4e5d-9a0a-fd931573803c"
      },
      "source": [
        "fruit2"
      ],
      "execution_count": 51,
      "outputs": [
        {
          "output_type": "execute_result",
          "data": {
            "text/plain": [
              "apple      3\n",
              "orange     2\n",
              "banana     9\n",
              "cherry     5\n",
              "mango     10\n",
              "dtype: int64"
            ]
          },
          "metadata": {},
          "execution_count": 51
        }
      ]
    },
    {
      "cell_type": "code",
      "metadata": {
        "colab": {
          "base_uri": "https://localhost:8080/"
        },
        "id": "3mujsxypemb-",
        "outputId": "8d11c332-88ec-4295-c3de-3620d0fa3812"
      },
      "source": [
        "fruit1 + fruit2"
      ],
      "execution_count": 52,
      "outputs": [
        {
          "output_type": "execute_result",
          "data": {
            "text/plain": [
              "apple      8.0\n",
              "banana    18.0\n",
              "cherry    15.0\n",
              "mango      NaN\n",
              "orange     NaN\n",
              "pear       NaN\n",
              "dtype: float64"
            ]
          },
          "metadata": {},
          "execution_count": 52
        }
      ]
    },
    {
      "cell_type": "code",
      "metadata": {
        "colab": {
          "base_uri": "https://localhost:8080/"
        },
        "id": "f5c07-EBetwq",
        "outputId": "bd59852b-b9df-4fdd-f0b7-c50bd01b02f1"
      },
      "source": [
        "fruitFrame['fruitPrice'].sort_values(ascending=True)"
      ],
      "execution_count": 53,
      "outputs": [
        {
          "output_type": "execute_result",
          "data": {
            "text/plain": [
              "cherry    1200\n",
              "apple     2500\n",
              "banana    3800\n",
              "pear      6000\n",
              "Name: fruitPrice, dtype: int64"
            ]
          },
          "metadata": {},
          "execution_count": 53
        }
      ]
    },
    {
      "cell_type": "code",
      "metadata": {
        "colab": {
          "base_uri": "https://localhost:8080/",
          "height": 173
        },
        "id": "LTQQ-G5EfJAO",
        "outputId": "bc977720-7379-4810-8fd0-9b5219144e82"
      },
      "source": [
        "fruitFrame.sort_index()"
      ],
      "execution_count": 54,
      "outputs": [
        {
          "output_type": "execute_result",
          "data": {
            "text/html": [
              "<div>\n",
              "<style scoped>\n",
              "    .dataframe tbody tr th:only-of-type {\n",
              "        vertical-align: middle;\n",
              "    }\n",
              "\n",
              "    .dataframe tbody tr th {\n",
              "        vertical-align: top;\n",
              "    }\n",
              "\n",
              "    .dataframe thead th {\n",
              "        text-align: right;\n",
              "    }\n",
              "</style>\n",
              "<table border=\"1\" class=\"dataframe\">\n",
              "  <thead>\n",
              "    <tr style=\"text-align: right;\">\n",
              "      <th></th>\n",
              "      <th>fruitPrice</th>\n",
              "      <th>num</th>\n",
              "    </tr>\n",
              "  </thead>\n",
              "  <tbody>\n",
              "    <tr>\n",
              "      <th>apple</th>\n",
              "      <td>2500</td>\n",
              "      <td>10</td>\n",
              "    </tr>\n",
              "    <tr>\n",
              "      <th>banana</th>\n",
              "      <td>3800</td>\n",
              "      <td>5</td>\n",
              "    </tr>\n",
              "    <tr>\n",
              "      <th>cherry</th>\n",
              "      <td>1200</td>\n",
              "      <td>8</td>\n",
              "    </tr>\n",
              "    <tr>\n",
              "      <th>pear</th>\n",
              "      <td>6000</td>\n",
              "      <td>3</td>\n",
              "    </tr>\n",
              "  </tbody>\n",
              "</table>\n",
              "</div>"
            ],
            "text/plain": [
              "        fruitPrice  num\n",
              "apple         2500   10\n",
              "banana        3800    5\n",
              "cherry        1200    8\n",
              "pear          6000    3"
            ]
          },
          "metadata": {},
          "execution_count": 54
        }
      ]
    },
    {
      "cell_type": "code",
      "metadata": {
        "colab": {
          "base_uri": "https://localhost:8080/",
          "height": 173
        },
        "id": "2KcS8J7bf0WW",
        "outputId": "bed8a379-2a06-454c-f134-54720f68dddd"
      },
      "source": [
        "fruitFrame.sort_values(by=['fruitPrice', 'num'])"
      ],
      "execution_count": 55,
      "outputs": [
        {
          "output_type": "execute_result",
          "data": {
            "text/html": [
              "<div>\n",
              "<style scoped>\n",
              "    .dataframe tbody tr th:only-of-type {\n",
              "        vertical-align: middle;\n",
              "    }\n",
              "\n",
              "    .dataframe tbody tr th {\n",
              "        vertical-align: top;\n",
              "    }\n",
              "\n",
              "    .dataframe thead th {\n",
              "        text-align: right;\n",
              "    }\n",
              "</style>\n",
              "<table border=\"1\" class=\"dataframe\">\n",
              "  <thead>\n",
              "    <tr style=\"text-align: right;\">\n",
              "      <th></th>\n",
              "      <th>fruitPrice</th>\n",
              "      <th>num</th>\n",
              "    </tr>\n",
              "  </thead>\n",
              "  <tbody>\n",
              "    <tr>\n",
              "      <th>cherry</th>\n",
              "      <td>1200</td>\n",
              "      <td>8</td>\n",
              "    </tr>\n",
              "    <tr>\n",
              "      <th>apple</th>\n",
              "      <td>2500</td>\n",
              "      <td>10</td>\n",
              "    </tr>\n",
              "    <tr>\n",
              "      <th>banana</th>\n",
              "      <td>3800</td>\n",
              "      <td>5</td>\n",
              "    </tr>\n",
              "    <tr>\n",
              "      <th>pear</th>\n",
              "      <td>6000</td>\n",
              "      <td>3</td>\n",
              "    </tr>\n",
              "  </tbody>\n",
              "</table>\n",
              "</div>"
            ],
            "text/plain": [
              "        fruitPrice  num\n",
              "cherry        1200    8\n",
              "apple         2500   10\n",
              "banana        3800    5\n",
              "pear          6000    3"
            ]
          },
          "metadata": {},
          "execution_count": 55
        }
      ]
    },
    {
      "cell_type": "code",
      "metadata": {
        "id": "I2roRcNjgEzr"
      },
      "source": [
        "german = pd.read_csv('http://freakonometrics.free.fr/german_credit.csv')"
      ],
      "execution_count": 58,
      "outputs": []
    },
    {
      "cell_type": "code",
      "metadata": {
        "colab": {
          "base_uri": "https://localhost:8080/"
        },
        "id": "OudrNK0Tg8sc",
        "outputId": "fe523c85-ab97-4c5d-eeda-614f2c318325"
      },
      "source": [
        "german.columns.values"
      ],
      "execution_count": 59,
      "outputs": [
        {
          "output_type": "execute_result",
          "data": {
            "text/plain": [
              "array(['Creditability', 'Account Balance', 'Duration of Credit (month)',\n",
              "       'Payment Status of Previous Credit', 'Purpose', 'Credit Amount',\n",
              "       'Value Savings/Stocks', 'Length of current employment',\n",
              "       'Instalment per cent', 'Sex & Marital Status', 'Guarantors',\n",
              "       'Duration in Current address', 'Most valuable available asset',\n",
              "       'Age (years)', 'Concurrent Credits', 'Type of apartment',\n",
              "       'No of Credits at this Bank', 'Occupation', 'No of dependents',\n",
              "       'Telephone', 'Foreign Worker'], dtype=object)"
            ]
          },
          "metadata": {},
          "execution_count": 59
        }
      ]
    },
    {
      "cell_type": "code",
      "metadata": {
        "id": "o2ogNz6xhWBo"
      },
      "source": [
        "german_sample = german[['Creditability', 'Duration of Credit (month)', 'Purpose', 'Credit Amount']]"
      ],
      "execution_count": 61,
      "outputs": []
    },
    {
      "cell_type": "code",
      "metadata": {
        "colab": {
          "base_uri": "https://localhost:8080/",
          "height": 419
        },
        "id": "j0GJ1NDLVviZ",
        "outputId": "75d3489d-5d87-454a-8517-80e4279bd4b9"
      },
      "source": [
        "german_sample"
      ],
      "execution_count": 62,
      "outputs": [
        {
          "output_type": "execute_result",
          "data": {
            "text/html": [
              "<div>\n",
              "<style scoped>\n",
              "    .dataframe tbody tr th:only-of-type {\n",
              "        vertical-align: middle;\n",
              "    }\n",
              "\n",
              "    .dataframe tbody tr th {\n",
              "        vertical-align: top;\n",
              "    }\n",
              "\n",
              "    .dataframe thead th {\n",
              "        text-align: right;\n",
              "    }\n",
              "</style>\n",
              "<table border=\"1\" class=\"dataframe\">\n",
              "  <thead>\n",
              "    <tr style=\"text-align: right;\">\n",
              "      <th></th>\n",
              "      <th>Creditability</th>\n",
              "      <th>Duration of Credit (month)</th>\n",
              "      <th>Purpose</th>\n",
              "      <th>Credit Amount</th>\n",
              "    </tr>\n",
              "  </thead>\n",
              "  <tbody>\n",
              "    <tr>\n",
              "      <th>0</th>\n",
              "      <td>1</td>\n",
              "      <td>18</td>\n",
              "      <td>2</td>\n",
              "      <td>1049</td>\n",
              "    </tr>\n",
              "    <tr>\n",
              "      <th>1</th>\n",
              "      <td>1</td>\n",
              "      <td>9</td>\n",
              "      <td>0</td>\n",
              "      <td>2799</td>\n",
              "    </tr>\n",
              "    <tr>\n",
              "      <th>2</th>\n",
              "      <td>1</td>\n",
              "      <td>12</td>\n",
              "      <td>9</td>\n",
              "      <td>841</td>\n",
              "    </tr>\n",
              "    <tr>\n",
              "      <th>3</th>\n",
              "      <td>1</td>\n",
              "      <td>12</td>\n",
              "      <td>0</td>\n",
              "      <td>2122</td>\n",
              "    </tr>\n",
              "    <tr>\n",
              "      <th>4</th>\n",
              "      <td>1</td>\n",
              "      <td>12</td>\n",
              "      <td>0</td>\n",
              "      <td>2171</td>\n",
              "    </tr>\n",
              "    <tr>\n",
              "      <th>...</th>\n",
              "      <td>...</td>\n",
              "      <td>...</td>\n",
              "      <td>...</td>\n",
              "      <td>...</td>\n",
              "    </tr>\n",
              "    <tr>\n",
              "      <th>995</th>\n",
              "      <td>0</td>\n",
              "      <td>24</td>\n",
              "      <td>3</td>\n",
              "      <td>1987</td>\n",
              "    </tr>\n",
              "    <tr>\n",
              "      <th>996</th>\n",
              "      <td>0</td>\n",
              "      <td>24</td>\n",
              "      <td>0</td>\n",
              "      <td>2303</td>\n",
              "    </tr>\n",
              "    <tr>\n",
              "      <th>997</th>\n",
              "      <td>0</td>\n",
              "      <td>21</td>\n",
              "      <td>0</td>\n",
              "      <td>12680</td>\n",
              "    </tr>\n",
              "    <tr>\n",
              "      <th>998</th>\n",
              "      <td>0</td>\n",
              "      <td>12</td>\n",
              "      <td>3</td>\n",
              "      <td>6468</td>\n",
              "    </tr>\n",
              "    <tr>\n",
              "      <th>999</th>\n",
              "      <td>0</td>\n",
              "      <td>30</td>\n",
              "      <td>2</td>\n",
              "      <td>6350</td>\n",
              "    </tr>\n",
              "  </tbody>\n",
              "</table>\n",
              "<p>1000 rows × 4 columns</p>\n",
              "</div>"
            ],
            "text/plain": [
              "     Creditability  Duration of Credit (month)  Purpose  Credit Amount\n",
              "0                1                          18        2           1049\n",
              "1                1                           9        0           2799\n",
              "2                1                          12        9            841\n",
              "3                1                          12        0           2122\n",
              "4                1                          12        0           2171\n",
              "..             ...                         ...      ...            ...\n",
              "995              0                          24        3           1987\n",
              "996              0                          24        0           2303\n",
              "997              0                          21        0          12680\n",
              "998              0                          12        3           6468\n",
              "999              0                          30        2           6350\n",
              "\n",
              "[1000 rows x 4 columns]"
            ]
          },
          "metadata": {},
          "execution_count": 62
        }
      ]
    },
    {
      "cell_type": "code",
      "metadata": {
        "colab": {
          "base_uri": "https://localhost:8080/"
        },
        "id": "J_PM1QwaV6LW",
        "outputId": "fea08ec7-df19-4398-9f84-46ab0e8175bf"
      },
      "source": [
        "german_sample.min()"
      ],
      "execution_count": 63,
      "outputs": [
        {
          "output_type": "execute_result",
          "data": {
            "text/plain": [
              "Creditability                   0\n",
              "Duration of Credit (month)      4\n",
              "Purpose                         0\n",
              "Credit Amount                 250\n",
              "dtype: int64"
            ]
          },
          "metadata": {},
          "execution_count": 63
        }
      ]
    },
    {
      "cell_type": "code",
      "metadata": {
        "colab": {
          "base_uri": "https://localhost:8080/"
        },
        "id": "kVyjIwX5WSLz",
        "outputId": "91c4a881-04fd-48cd-e65a-906d6547f67b"
      },
      "source": [
        "german_sample.max()"
      ],
      "execution_count": 64,
      "outputs": [
        {
          "output_type": "execute_result",
          "data": {
            "text/plain": [
              "Creditability                     1\n",
              "Duration of Credit (month)       72\n",
              "Purpose                          10\n",
              "Credit Amount                 18424\n",
              "dtype: int64"
            ]
          },
          "metadata": {},
          "execution_count": 64
        }
      ]
    },
    {
      "cell_type": "code",
      "metadata": {
        "colab": {
          "base_uri": "https://localhost:8080/"
        },
        "id": "7bK9-C_xWW2r",
        "outputId": "6bd8da83-883b-4927-9909-359e3911a950"
      },
      "source": [
        "german_sample.mean()"
      ],
      "execution_count": 65,
      "outputs": [
        {
          "output_type": "execute_result",
          "data": {
            "text/plain": [
              "Creditability                    0.700\n",
              "Duration of Credit (month)      20.903\n",
              "Purpose                          2.828\n",
              "Credit Amount                 3271.248\n",
              "dtype: float64"
            ]
          },
          "metadata": {},
          "execution_count": 65
        }
      ]
    },
    {
      "cell_type": "code",
      "metadata": {
        "colab": {
          "base_uri": "https://localhost:8080/"
        },
        "id": "NEx5o4MbWePR",
        "outputId": "7e7f6187-dac3-4412-8f09-e3f9aaeee96d"
      },
      "source": [
        "german_sample.describe"
      ],
      "execution_count": 66,
      "outputs": [
        {
          "output_type": "execute_result",
          "data": {
            "text/plain": [
              "<bound method NDFrame.describe of      Creditability  Duration of Credit (month)  Purpose  Credit Amount\n",
              "0                1                          18        2           1049\n",
              "1                1                           9        0           2799\n",
              "2                1                          12        9            841\n",
              "3                1                          12        0           2122\n",
              "4                1                          12        0           2171\n",
              "..             ...                         ...      ...            ...\n",
              "995              0                          24        3           1987\n",
              "996              0                          24        0           2303\n",
              "997              0                          21        0          12680\n",
              "998              0                          12        3           6468\n",
              "999              0                          30        2           6350\n",
              "\n",
              "[1000 rows x 4 columns]>"
            ]
          },
          "metadata": {},
          "execution_count": 66
        }
      ]
    },
    {
      "cell_type": "code",
      "metadata": {
        "id": "bVpseEx8WuA6"
      },
      "source": [
        "german_sample = german[['Duration of Credit (month)', 'Credit Amount', 'Age (years)']]"
      ],
      "execution_count": 67,
      "outputs": []
    },
    {
      "cell_type": "code",
      "metadata": {
        "colab": {
          "base_uri": "https://localhost:8080/"
        },
        "id": "ZuXq_ihMXXZy",
        "outputId": "a95bb85d-1cb3-4a01-c39c-a4b59ac04e39"
      },
      "source": [
        "german_sample.head"
      ],
      "execution_count": 68,
      "outputs": [
        {
          "output_type": "execute_result",
          "data": {
            "text/plain": [
              "<bound method NDFrame.head of      Duration of Credit (month)  Credit Amount  Age (years)\n",
              "0                            18           1049           21\n",
              "1                             9           2799           36\n",
              "2                            12            841           23\n",
              "3                            12           2122           39\n",
              "4                            12           2171           38\n",
              "..                          ...            ...          ...\n",
              "995                          24           1987           21\n",
              "996                          24           2303           45\n",
              "997                          21          12680           30\n",
              "998                          12           6468           52\n",
              "999                          30           6350           31\n",
              "\n",
              "[1000 rows x 3 columns]>"
            ]
          },
          "metadata": {},
          "execution_count": 68
        }
      ]
    },
    {
      "cell_type": "code",
      "metadata": {
        "colab": {
          "base_uri": "https://localhost:8080/",
          "height": 142
        },
        "id": "ExHswjo9Xl2o",
        "outputId": "34670350-4389-440a-e417-0312dc4a8da2"
      },
      "source": [
        "german_sample.corr() # Correlation"
      ],
      "execution_count": 70,
      "outputs": [
        {
          "output_type": "execute_result",
          "data": {
            "text/html": [
              "<div>\n",
              "<style scoped>\n",
              "    .dataframe tbody tr th:only-of-type {\n",
              "        vertical-align: middle;\n",
              "    }\n",
              "\n",
              "    .dataframe tbody tr th {\n",
              "        vertical-align: top;\n",
              "    }\n",
              "\n",
              "    .dataframe thead th {\n",
              "        text-align: right;\n",
              "    }\n",
              "</style>\n",
              "<table border=\"1\" class=\"dataframe\">\n",
              "  <thead>\n",
              "    <tr style=\"text-align: right;\">\n",
              "      <th></th>\n",
              "      <th>Duration of Credit (month)</th>\n",
              "      <th>Credit Amount</th>\n",
              "      <th>Age (years)</th>\n",
              "    </tr>\n",
              "  </thead>\n",
              "  <tbody>\n",
              "    <tr>\n",
              "      <th>Duration of Credit (month)</th>\n",
              "      <td>1.000000</td>\n",
              "      <td>0.624988</td>\n",
              "      <td>-0.037550</td>\n",
              "    </tr>\n",
              "    <tr>\n",
              "      <th>Credit Amount</th>\n",
              "      <td>0.624988</td>\n",
              "      <td>1.000000</td>\n",
              "      <td>0.032273</td>\n",
              "    </tr>\n",
              "    <tr>\n",
              "      <th>Age (years)</th>\n",
              "      <td>-0.037550</td>\n",
              "      <td>0.032273</td>\n",
              "      <td>1.000000</td>\n",
              "    </tr>\n",
              "  </tbody>\n",
              "</table>\n",
              "</div>"
            ],
            "text/plain": [
              "                            Duration of Credit (month)  ...  Age (years)\n",
              "Duration of Credit (month)                    1.000000  ...    -0.037550\n",
              "Credit Amount                                 0.624988  ...     0.032273\n",
              "Age (years)                                  -0.037550  ...     1.000000\n",
              "\n",
              "[3 rows x 3 columns]"
            ]
          },
          "metadata": {},
          "execution_count": 70
        }
      ]
    },
    {
      "cell_type": "code",
      "metadata": {
        "id": "F2v6-yAyYcrT"
      },
      "source": [
        "# Group by"
      ],
      "execution_count": 71,
      "outputs": []
    },
    {
      "cell_type": "code",
      "metadata": {
        "id": "gv5kcQhHZOFV"
      },
      "source": [
        "german_sample = german[['Credit Amount', 'Type of apartment']]"
      ],
      "execution_count": 72,
      "outputs": []
    },
    {
      "cell_type": "code",
      "metadata": {
        "colab": {
          "base_uri": "https://localhost:8080/",
          "height": 419
        },
        "id": "r2jT1QITZtpq",
        "outputId": "fbf7879e-31ed-419e-b58f-f1626f10f85e"
      },
      "source": [
        "german_sample"
      ],
      "execution_count": 73,
      "outputs": [
        {
          "output_type": "execute_result",
          "data": {
            "text/html": [
              "<div>\n",
              "<style scoped>\n",
              "    .dataframe tbody tr th:only-of-type {\n",
              "        vertical-align: middle;\n",
              "    }\n",
              "\n",
              "    .dataframe tbody tr th {\n",
              "        vertical-align: top;\n",
              "    }\n",
              "\n",
              "    .dataframe thead th {\n",
              "        text-align: right;\n",
              "    }\n",
              "</style>\n",
              "<table border=\"1\" class=\"dataframe\">\n",
              "  <thead>\n",
              "    <tr style=\"text-align: right;\">\n",
              "      <th></th>\n",
              "      <th>Credit Amount</th>\n",
              "      <th>Type of apartment</th>\n",
              "    </tr>\n",
              "  </thead>\n",
              "  <tbody>\n",
              "    <tr>\n",
              "      <th>0</th>\n",
              "      <td>1049</td>\n",
              "      <td>1</td>\n",
              "    </tr>\n",
              "    <tr>\n",
              "      <th>1</th>\n",
              "      <td>2799</td>\n",
              "      <td>1</td>\n",
              "    </tr>\n",
              "    <tr>\n",
              "      <th>2</th>\n",
              "      <td>841</td>\n",
              "      <td>1</td>\n",
              "    </tr>\n",
              "    <tr>\n",
              "      <th>3</th>\n",
              "      <td>2122</td>\n",
              "      <td>1</td>\n",
              "    </tr>\n",
              "    <tr>\n",
              "      <th>4</th>\n",
              "      <td>2171</td>\n",
              "      <td>2</td>\n",
              "    </tr>\n",
              "    <tr>\n",
              "      <th>...</th>\n",
              "      <td>...</td>\n",
              "      <td>...</td>\n",
              "    </tr>\n",
              "    <tr>\n",
              "      <th>995</th>\n",
              "      <td>1987</td>\n",
              "      <td>1</td>\n",
              "    </tr>\n",
              "    <tr>\n",
              "      <th>996</th>\n",
              "      <td>2303</td>\n",
              "      <td>2</td>\n",
              "    </tr>\n",
              "    <tr>\n",
              "      <th>997</th>\n",
              "      <td>12680</td>\n",
              "      <td>3</td>\n",
              "    </tr>\n",
              "    <tr>\n",
              "      <th>998</th>\n",
              "      <td>6468</td>\n",
              "      <td>2</td>\n",
              "    </tr>\n",
              "    <tr>\n",
              "      <th>999</th>\n",
              "      <td>6350</td>\n",
              "      <td>2</td>\n",
              "    </tr>\n",
              "  </tbody>\n",
              "</table>\n",
              "<p>1000 rows × 2 columns</p>\n",
              "</div>"
            ],
            "text/plain": [
              "     Credit Amount  Type of apartment\n",
              "0             1049                  1\n",
              "1             2799                  1\n",
              "2              841                  1\n",
              "3             2122                  1\n",
              "4             2171                  2\n",
              "..             ...                ...\n",
              "995           1987                  1\n",
              "996           2303                  2\n",
              "997          12680                  3\n",
              "998           6468                  2\n",
              "999           6350                  2\n",
              "\n",
              "[1000 rows x 2 columns]"
            ]
          },
          "metadata": {},
          "execution_count": 73
        }
      ]
    },
    {
      "cell_type": "code",
      "metadata": {
        "id": "BZdu2mqRZzys"
      },
      "source": [
        "german_grouped = german_sample['Credit Amount'].groupby(german_sample['Type of apartment'])"
      ],
      "execution_count": 78,
      "outputs": []
    },
    {
      "cell_type": "code",
      "metadata": {
        "colab": {
          "base_uri": "https://localhost:8080/"
        },
        "id": "8JNyuyk-aH4_",
        "outputId": "27d1a91a-19b3-46ce-e108-e120b4362602"
      },
      "source": [
        "german_grouped.mean()"
      ],
      "execution_count": 79,
      "outputs": [
        {
          "output_type": "execute_result",
          "data": {
            "text/plain": [
              "Type of apartment\n",
              "1    3122.553073\n",
              "2    3067.257703\n",
              "3    4881.205607\n",
              "Name: Credit Amount, dtype: float64"
            ]
          },
          "metadata": {},
          "execution_count": 79
        }
      ]
    },
    {
      "cell_type": "code",
      "metadata": {
        "colab": {
          "base_uri": "https://localhost:8080/"
        },
        "id": "9M9eBiJealNO",
        "outputId": "363ca28e-6533-4c5a-c209-4e4eb0b66106"
      },
      "source": [
        "german_grouped.sum()"
      ],
      "execution_count": 80,
      "outputs": [
        {
          "output_type": "execute_result",
          "data": {
            "text/plain": [
              "Type of apartment\n",
              "1     558937\n",
              "2    2190022\n",
              "3     522289\n",
              "Name: Credit Amount, dtype: int64"
            ]
          },
          "metadata": {},
          "execution_count": 80
        }
      ]
    },
    {
      "cell_type": "code",
      "metadata": {
        "id": "5CBGP0XGa1yg"
      },
      "source": [
        "german_sample = german[['Credit Amount', 'Type of apartment', 'Purpose']]"
      ],
      "execution_count": 82,
      "outputs": []
    },
    {
      "cell_type": "code",
      "metadata": {
        "id": "kowvdl5CbKIU"
      },
      "source": [
        "german_grouped2 = german_sample['Credit Amount'].groupby([german_sample['Purpose'], german_sample['Type of apartment']])"
      ],
      "execution_count": 83,
      "outputs": []
    },
    {
      "cell_type": "code",
      "metadata": {
        "colab": {
          "base_uri": "https://localhost:8080/"
        },
        "id": "Rix_8Yrqb7te",
        "outputId": "f92f6ae9-57cf-49f5-a6fe-7ae429dc8b5d"
      },
      "source": [
        "german_grouped2.mean()"
      ],
      "execution_count": 85,
      "outputs": [
        {
          "output_type": "execute_result",
          "data": {
            "text/plain": [
              "Purpose  Type of apartment\n",
              "0        1                    2597.225000\n",
              "         2                    2811.024242\n",
              "         3                    5138.689655\n",
              "1        1                    5037.086957\n",
              "         2                    4915.222222\n",
              "         3                    6609.923077\n",
              "2        1                    2727.354167\n",
              "         2                    3107.450820\n",
              "         3                    4100.181818\n",
              "3        1                    2199.763158\n",
              "         2                    2540.533040\n",
              "         3                    2417.333333\n",
              "4        1                    1255.500000\n",
              "         2                    1546.500000\n",
              "5        1                    1522.000000\n",
              "         2                    2866.000000\n",
              "         3                    2750.666667\n",
              "6        1                    3156.444444\n",
              "         2                    2492.423077\n",
              "         3                    4387.266667\n",
              "8        1                     902.000000\n",
              "         2                    1243.875000\n",
              "9        1                    5614.125000\n",
              "         2                    3800.592105\n",
              "         3                    4931.800000\n",
              "10       2                    8576.111111\n",
              "         3                    7109.000000\n",
              "Name: Credit Amount, dtype: float64"
            ]
          },
          "metadata": {},
          "execution_count": 85
        }
      ]
    },
    {
      "cell_type": "code",
      "metadata": {
        "id": "2Ij9lg4GcDRL"
      },
      "source": [
        "import seaborn as sns"
      ],
      "execution_count": 86,
      "outputs": []
    },
    {
      "cell_type": "code",
      "metadata": {
        "id": "8QzL5CZwc39p"
      },
      "source": [
        "planets = sns.load_dataset('planets')"
      ],
      "execution_count": 87,
      "outputs": []
    },
    {
      "cell_type": "code",
      "metadata": {
        "colab": {
          "base_uri": "https://localhost:8080/",
          "height": 419
        },
        "id": "vsXrwkYgc7_s",
        "outputId": "41e8dd57-5b03-4d7c-c0e7-98195e1cf8d4"
      },
      "source": [
        "planets"
      ],
      "execution_count": 88,
      "outputs": [
        {
          "output_type": "execute_result",
          "data": {
            "text/html": [
              "<div>\n",
              "<style scoped>\n",
              "    .dataframe tbody tr th:only-of-type {\n",
              "        vertical-align: middle;\n",
              "    }\n",
              "\n",
              "    .dataframe tbody tr th {\n",
              "        vertical-align: top;\n",
              "    }\n",
              "\n",
              "    .dataframe thead th {\n",
              "        text-align: right;\n",
              "    }\n",
              "</style>\n",
              "<table border=\"1\" class=\"dataframe\">\n",
              "  <thead>\n",
              "    <tr style=\"text-align: right;\">\n",
              "      <th></th>\n",
              "      <th>method</th>\n",
              "      <th>number</th>\n",
              "      <th>orbital_period</th>\n",
              "      <th>mass</th>\n",
              "      <th>distance</th>\n",
              "      <th>year</th>\n",
              "    </tr>\n",
              "  </thead>\n",
              "  <tbody>\n",
              "    <tr>\n",
              "      <th>0</th>\n",
              "      <td>Radial Velocity</td>\n",
              "      <td>1</td>\n",
              "      <td>269.300000</td>\n",
              "      <td>7.10</td>\n",
              "      <td>77.40</td>\n",
              "      <td>2006</td>\n",
              "    </tr>\n",
              "    <tr>\n",
              "      <th>1</th>\n",
              "      <td>Radial Velocity</td>\n",
              "      <td>1</td>\n",
              "      <td>874.774000</td>\n",
              "      <td>2.21</td>\n",
              "      <td>56.95</td>\n",
              "      <td>2008</td>\n",
              "    </tr>\n",
              "    <tr>\n",
              "      <th>2</th>\n",
              "      <td>Radial Velocity</td>\n",
              "      <td>1</td>\n",
              "      <td>763.000000</td>\n",
              "      <td>2.60</td>\n",
              "      <td>19.84</td>\n",
              "      <td>2011</td>\n",
              "    </tr>\n",
              "    <tr>\n",
              "      <th>3</th>\n",
              "      <td>Radial Velocity</td>\n",
              "      <td>1</td>\n",
              "      <td>326.030000</td>\n",
              "      <td>19.40</td>\n",
              "      <td>110.62</td>\n",
              "      <td>2007</td>\n",
              "    </tr>\n",
              "    <tr>\n",
              "      <th>4</th>\n",
              "      <td>Radial Velocity</td>\n",
              "      <td>1</td>\n",
              "      <td>516.220000</td>\n",
              "      <td>10.50</td>\n",
              "      <td>119.47</td>\n",
              "      <td>2009</td>\n",
              "    </tr>\n",
              "    <tr>\n",
              "      <th>...</th>\n",
              "      <td>...</td>\n",
              "      <td>...</td>\n",
              "      <td>...</td>\n",
              "      <td>...</td>\n",
              "      <td>...</td>\n",
              "      <td>...</td>\n",
              "    </tr>\n",
              "    <tr>\n",
              "      <th>1030</th>\n",
              "      <td>Transit</td>\n",
              "      <td>1</td>\n",
              "      <td>3.941507</td>\n",
              "      <td>NaN</td>\n",
              "      <td>172.00</td>\n",
              "      <td>2006</td>\n",
              "    </tr>\n",
              "    <tr>\n",
              "      <th>1031</th>\n",
              "      <td>Transit</td>\n",
              "      <td>1</td>\n",
              "      <td>2.615864</td>\n",
              "      <td>NaN</td>\n",
              "      <td>148.00</td>\n",
              "      <td>2007</td>\n",
              "    </tr>\n",
              "    <tr>\n",
              "      <th>1032</th>\n",
              "      <td>Transit</td>\n",
              "      <td>1</td>\n",
              "      <td>3.191524</td>\n",
              "      <td>NaN</td>\n",
              "      <td>174.00</td>\n",
              "      <td>2007</td>\n",
              "    </tr>\n",
              "    <tr>\n",
              "      <th>1033</th>\n",
              "      <td>Transit</td>\n",
              "      <td>1</td>\n",
              "      <td>4.125083</td>\n",
              "      <td>NaN</td>\n",
              "      <td>293.00</td>\n",
              "      <td>2008</td>\n",
              "    </tr>\n",
              "    <tr>\n",
              "      <th>1034</th>\n",
              "      <td>Transit</td>\n",
              "      <td>1</td>\n",
              "      <td>4.187757</td>\n",
              "      <td>NaN</td>\n",
              "      <td>260.00</td>\n",
              "      <td>2008</td>\n",
              "    </tr>\n",
              "  </tbody>\n",
              "</table>\n",
              "<p>1035 rows × 6 columns</p>\n",
              "</div>"
            ],
            "text/plain": [
              "               method  number  orbital_period   mass  distance  year\n",
              "0     Radial Velocity       1      269.300000   7.10     77.40  2006\n",
              "1     Radial Velocity       1      874.774000   2.21     56.95  2008\n",
              "2     Radial Velocity       1      763.000000   2.60     19.84  2011\n",
              "3     Radial Velocity       1      326.030000  19.40    110.62  2007\n",
              "4     Radial Velocity       1      516.220000  10.50    119.47  2009\n",
              "...               ...     ...             ...    ...       ...   ...\n",
              "1030          Transit       1        3.941507    NaN    172.00  2006\n",
              "1031          Transit       1        2.615864    NaN    148.00  2007\n",
              "1032          Transit       1        3.191524    NaN    174.00  2007\n",
              "1033          Transit       1        4.125083    NaN    293.00  2008\n",
              "1034          Transit       1        4.187757    NaN    260.00  2008\n",
              "\n",
              "[1035 rows x 6 columns]"
            ]
          },
          "metadata": {},
          "execution_count": 88
        }
      ]
    },
    {
      "cell_type": "code",
      "metadata": {
        "colab": {
          "base_uri": "https://localhost:8080/",
          "height": 419
        },
        "id": "O8s0EnX5eYdR",
        "outputId": "e1416977-a001-46c6-81d6-62eeaebd1465"
      },
      "source": [
        "planets.dropna()"
      ],
      "execution_count": 89,
      "outputs": [
        {
          "output_type": "execute_result",
          "data": {
            "text/html": [
              "<div>\n",
              "<style scoped>\n",
              "    .dataframe tbody tr th:only-of-type {\n",
              "        vertical-align: middle;\n",
              "    }\n",
              "\n",
              "    .dataframe tbody tr th {\n",
              "        vertical-align: top;\n",
              "    }\n",
              "\n",
              "    .dataframe thead th {\n",
              "        text-align: right;\n",
              "    }\n",
              "</style>\n",
              "<table border=\"1\" class=\"dataframe\">\n",
              "  <thead>\n",
              "    <tr style=\"text-align: right;\">\n",
              "      <th></th>\n",
              "      <th>method</th>\n",
              "      <th>number</th>\n",
              "      <th>orbital_period</th>\n",
              "      <th>mass</th>\n",
              "      <th>distance</th>\n",
              "      <th>year</th>\n",
              "    </tr>\n",
              "  </thead>\n",
              "  <tbody>\n",
              "    <tr>\n",
              "      <th>0</th>\n",
              "      <td>Radial Velocity</td>\n",
              "      <td>1</td>\n",
              "      <td>269.30000</td>\n",
              "      <td>7.100</td>\n",
              "      <td>77.40</td>\n",
              "      <td>2006</td>\n",
              "    </tr>\n",
              "    <tr>\n",
              "      <th>1</th>\n",
              "      <td>Radial Velocity</td>\n",
              "      <td>1</td>\n",
              "      <td>874.77400</td>\n",
              "      <td>2.210</td>\n",
              "      <td>56.95</td>\n",
              "      <td>2008</td>\n",
              "    </tr>\n",
              "    <tr>\n",
              "      <th>2</th>\n",
              "      <td>Radial Velocity</td>\n",
              "      <td>1</td>\n",
              "      <td>763.00000</td>\n",
              "      <td>2.600</td>\n",
              "      <td>19.84</td>\n",
              "      <td>2011</td>\n",
              "    </tr>\n",
              "    <tr>\n",
              "      <th>3</th>\n",
              "      <td>Radial Velocity</td>\n",
              "      <td>1</td>\n",
              "      <td>326.03000</td>\n",
              "      <td>19.400</td>\n",
              "      <td>110.62</td>\n",
              "      <td>2007</td>\n",
              "    </tr>\n",
              "    <tr>\n",
              "      <th>4</th>\n",
              "      <td>Radial Velocity</td>\n",
              "      <td>1</td>\n",
              "      <td>516.22000</td>\n",
              "      <td>10.500</td>\n",
              "      <td>119.47</td>\n",
              "      <td>2009</td>\n",
              "    </tr>\n",
              "    <tr>\n",
              "      <th>...</th>\n",
              "      <td>...</td>\n",
              "      <td>...</td>\n",
              "      <td>...</td>\n",
              "      <td>...</td>\n",
              "      <td>...</td>\n",
              "      <td>...</td>\n",
              "    </tr>\n",
              "    <tr>\n",
              "      <th>640</th>\n",
              "      <td>Radial Velocity</td>\n",
              "      <td>1</td>\n",
              "      <td>111.70000</td>\n",
              "      <td>2.100</td>\n",
              "      <td>14.90</td>\n",
              "      <td>2009</td>\n",
              "    </tr>\n",
              "    <tr>\n",
              "      <th>641</th>\n",
              "      <td>Radial Velocity</td>\n",
              "      <td>1</td>\n",
              "      <td>5.05050</td>\n",
              "      <td>1.068</td>\n",
              "      <td>44.46</td>\n",
              "      <td>2013</td>\n",
              "    </tr>\n",
              "    <tr>\n",
              "      <th>642</th>\n",
              "      <td>Radial Velocity</td>\n",
              "      <td>1</td>\n",
              "      <td>311.28800</td>\n",
              "      <td>1.940</td>\n",
              "      <td>17.24</td>\n",
              "      <td>1999</td>\n",
              "    </tr>\n",
              "    <tr>\n",
              "      <th>649</th>\n",
              "      <td>Transit</td>\n",
              "      <td>1</td>\n",
              "      <td>2.70339</td>\n",
              "      <td>1.470</td>\n",
              "      <td>178.00</td>\n",
              "      <td>2013</td>\n",
              "    </tr>\n",
              "    <tr>\n",
              "      <th>784</th>\n",
              "      <td>Radial Velocity</td>\n",
              "      <td>3</td>\n",
              "      <td>580.00000</td>\n",
              "      <td>0.947</td>\n",
              "      <td>135.00</td>\n",
              "      <td>2012</td>\n",
              "    </tr>\n",
              "  </tbody>\n",
              "</table>\n",
              "<p>498 rows × 6 columns</p>\n",
              "</div>"
            ],
            "text/plain": [
              "              method  number  orbital_period    mass  distance  year\n",
              "0    Radial Velocity       1       269.30000   7.100     77.40  2006\n",
              "1    Radial Velocity       1       874.77400   2.210     56.95  2008\n",
              "2    Radial Velocity       1       763.00000   2.600     19.84  2011\n",
              "3    Radial Velocity       1       326.03000  19.400    110.62  2007\n",
              "4    Radial Velocity       1       516.22000  10.500    119.47  2009\n",
              "..               ...     ...             ...     ...       ...   ...\n",
              "640  Radial Velocity       1       111.70000   2.100     14.90  2009\n",
              "641  Radial Velocity       1         5.05050   1.068     44.46  2013\n",
              "642  Radial Velocity       1       311.28800   1.940     17.24  1999\n",
              "649          Transit       1         2.70339   1.470    178.00  2013\n",
              "784  Radial Velocity       3       580.00000   0.947    135.00  2012\n",
              "\n",
              "[498 rows x 6 columns]"
            ]
          },
          "metadata": {},
          "execution_count": 89
        }
      ]
    },
    {
      "cell_type": "code",
      "metadata": {
        "id": "Qn3jy0edhVyE"
      },
      "source": [
        "births = pd.read_csv('https://raw.githubusercontent.com/jakevdp/data-CDCbirths/master/births.csv')"
      ],
      "execution_count": 90,
      "outputs": []
    },
    {
      "cell_type": "code",
      "metadata": {
        "colab": {
          "base_uri": "https://localhost:8080/",
          "height": 419
        },
        "id": "CLb30cNLiDu2",
        "outputId": "38ddcf41-5663-462a-a655-3d076f9342c2"
      },
      "source": [
        "births"
      ],
      "execution_count": 91,
      "outputs": [
        {
          "output_type": "execute_result",
          "data": {
            "text/html": [
              "<div>\n",
              "<style scoped>\n",
              "    .dataframe tbody tr th:only-of-type {\n",
              "        vertical-align: middle;\n",
              "    }\n",
              "\n",
              "    .dataframe tbody tr th {\n",
              "        vertical-align: top;\n",
              "    }\n",
              "\n",
              "    .dataframe thead th {\n",
              "        text-align: right;\n",
              "    }\n",
              "</style>\n",
              "<table border=\"1\" class=\"dataframe\">\n",
              "  <thead>\n",
              "    <tr style=\"text-align: right;\">\n",
              "      <th></th>\n",
              "      <th>year</th>\n",
              "      <th>month</th>\n",
              "      <th>day</th>\n",
              "      <th>gender</th>\n",
              "      <th>births</th>\n",
              "    </tr>\n",
              "  </thead>\n",
              "  <tbody>\n",
              "    <tr>\n",
              "      <th>0</th>\n",
              "      <td>1969</td>\n",
              "      <td>1</td>\n",
              "      <td>1.0</td>\n",
              "      <td>F</td>\n",
              "      <td>4046</td>\n",
              "    </tr>\n",
              "    <tr>\n",
              "      <th>1</th>\n",
              "      <td>1969</td>\n",
              "      <td>1</td>\n",
              "      <td>1.0</td>\n",
              "      <td>M</td>\n",
              "      <td>4440</td>\n",
              "    </tr>\n",
              "    <tr>\n",
              "      <th>2</th>\n",
              "      <td>1969</td>\n",
              "      <td>1</td>\n",
              "      <td>2.0</td>\n",
              "      <td>F</td>\n",
              "      <td>4454</td>\n",
              "    </tr>\n",
              "    <tr>\n",
              "      <th>3</th>\n",
              "      <td>1969</td>\n",
              "      <td>1</td>\n",
              "      <td>2.0</td>\n",
              "      <td>M</td>\n",
              "      <td>4548</td>\n",
              "    </tr>\n",
              "    <tr>\n",
              "      <th>4</th>\n",
              "      <td>1969</td>\n",
              "      <td>1</td>\n",
              "      <td>3.0</td>\n",
              "      <td>F</td>\n",
              "      <td>4548</td>\n",
              "    </tr>\n",
              "    <tr>\n",
              "      <th>...</th>\n",
              "      <td>...</td>\n",
              "      <td>...</td>\n",
              "      <td>...</td>\n",
              "      <td>...</td>\n",
              "      <td>...</td>\n",
              "    </tr>\n",
              "    <tr>\n",
              "      <th>15542</th>\n",
              "      <td>2008</td>\n",
              "      <td>10</td>\n",
              "      <td>NaN</td>\n",
              "      <td>M</td>\n",
              "      <td>183219</td>\n",
              "    </tr>\n",
              "    <tr>\n",
              "      <th>15543</th>\n",
              "      <td>2008</td>\n",
              "      <td>11</td>\n",
              "      <td>NaN</td>\n",
              "      <td>F</td>\n",
              "      <td>158939</td>\n",
              "    </tr>\n",
              "    <tr>\n",
              "      <th>15544</th>\n",
              "      <td>2008</td>\n",
              "      <td>11</td>\n",
              "      <td>NaN</td>\n",
              "      <td>M</td>\n",
              "      <td>165468</td>\n",
              "    </tr>\n",
              "    <tr>\n",
              "      <th>15545</th>\n",
              "      <td>2008</td>\n",
              "      <td>12</td>\n",
              "      <td>NaN</td>\n",
              "      <td>F</td>\n",
              "      <td>173215</td>\n",
              "    </tr>\n",
              "    <tr>\n",
              "      <th>15546</th>\n",
              "      <td>2008</td>\n",
              "      <td>12</td>\n",
              "      <td>NaN</td>\n",
              "      <td>M</td>\n",
              "      <td>181235</td>\n",
              "    </tr>\n",
              "  </tbody>\n",
              "</table>\n",
              "<p>15547 rows × 5 columns</p>\n",
              "</div>"
            ],
            "text/plain": [
              "       year  month  day gender  births\n",
              "0      1969      1  1.0      F    4046\n",
              "1      1969      1  1.0      M    4440\n",
              "2      1969      1  2.0      F    4454\n",
              "3      1969      1  2.0      M    4548\n",
              "4      1969      1  3.0      F    4548\n",
              "...     ...    ...  ...    ...     ...\n",
              "15542  2008     10  NaN      M  183219\n",
              "15543  2008     11  NaN      F  158939\n",
              "15544  2008     11  NaN      M  165468\n",
              "15545  2008     12  NaN      F  173215\n",
              "15546  2008     12  NaN      M  181235\n",
              "\n",
              "[15547 rows x 5 columns]"
            ]
          },
          "metadata": {},
          "execution_count": 91
        }
      ]
    },
    {
      "cell_type": "code",
      "metadata": {
        "colab": {
          "base_uri": "https://localhost:8080/"
        },
        "id": "eUDC4SOuiIBO",
        "outputId": "2bf80289-55aa-401e-fde0-695e454ffa05"
      },
      "source": [
        "births.head"
      ],
      "execution_count": 92,
      "outputs": [
        {
          "output_type": "execute_result",
          "data": {
            "text/plain": [
              "<bound method NDFrame.head of        year  month  day gender  births\n",
              "0      1969      1  1.0      F    4046\n",
              "1      1969      1  1.0      M    4440\n",
              "2      1969      1  2.0      F    4454\n",
              "3      1969      1  2.0      M    4548\n",
              "4      1969      1  3.0      F    4548\n",
              "...     ...    ...  ...    ...     ...\n",
              "15542  2008     10  NaN      M  183219\n",
              "15543  2008     11  NaN      F  158939\n",
              "15544  2008     11  NaN      M  165468\n",
              "15545  2008     12  NaN      F  173215\n",
              "15546  2008     12  NaN      M  181235\n",
              "\n",
              "[15547 rows x 5 columns]>"
            ]
          },
          "metadata": {},
          "execution_count": 92
        }
      ]
    },
    {
      "cell_type": "code",
      "metadata": {
        "id": "rTgNZQabigNt"
      },
      "source": [
        "births['decade'] = births['year'] // 10 * 10"
      ],
      "execution_count": 93,
      "outputs": []
    },
    {
      "cell_type": "code",
      "metadata": {
        "colab": {
          "base_uri": "https://localhost:8080/",
          "height": 419
        },
        "id": "E23W79FijSeF",
        "outputId": "fa8b9e52-8e0b-4bfc-c9ed-3de819a35784"
      },
      "source": [
        "births"
      ],
      "execution_count": 95,
      "outputs": [
        {
          "output_type": "execute_result",
          "data": {
            "text/html": [
              "<div>\n",
              "<style scoped>\n",
              "    .dataframe tbody tr th:only-of-type {\n",
              "        vertical-align: middle;\n",
              "    }\n",
              "\n",
              "    .dataframe tbody tr th {\n",
              "        vertical-align: top;\n",
              "    }\n",
              "\n",
              "    .dataframe thead th {\n",
              "        text-align: right;\n",
              "    }\n",
              "</style>\n",
              "<table border=\"1\" class=\"dataframe\">\n",
              "  <thead>\n",
              "    <tr style=\"text-align: right;\">\n",
              "      <th></th>\n",
              "      <th>year</th>\n",
              "      <th>month</th>\n",
              "      <th>day</th>\n",
              "      <th>gender</th>\n",
              "      <th>births</th>\n",
              "      <th>decade</th>\n",
              "    </tr>\n",
              "  </thead>\n",
              "  <tbody>\n",
              "    <tr>\n",
              "      <th>0</th>\n",
              "      <td>1969</td>\n",
              "      <td>1</td>\n",
              "      <td>1.0</td>\n",
              "      <td>F</td>\n",
              "      <td>4046</td>\n",
              "      <td>1960</td>\n",
              "    </tr>\n",
              "    <tr>\n",
              "      <th>1</th>\n",
              "      <td>1969</td>\n",
              "      <td>1</td>\n",
              "      <td>1.0</td>\n",
              "      <td>M</td>\n",
              "      <td>4440</td>\n",
              "      <td>1960</td>\n",
              "    </tr>\n",
              "    <tr>\n",
              "      <th>2</th>\n",
              "      <td>1969</td>\n",
              "      <td>1</td>\n",
              "      <td>2.0</td>\n",
              "      <td>F</td>\n",
              "      <td>4454</td>\n",
              "      <td>1960</td>\n",
              "    </tr>\n",
              "    <tr>\n",
              "      <th>3</th>\n",
              "      <td>1969</td>\n",
              "      <td>1</td>\n",
              "      <td>2.0</td>\n",
              "      <td>M</td>\n",
              "      <td>4548</td>\n",
              "      <td>1960</td>\n",
              "    </tr>\n",
              "    <tr>\n",
              "      <th>4</th>\n",
              "      <td>1969</td>\n",
              "      <td>1</td>\n",
              "      <td>3.0</td>\n",
              "      <td>F</td>\n",
              "      <td>4548</td>\n",
              "      <td>1960</td>\n",
              "    </tr>\n",
              "    <tr>\n",
              "      <th>...</th>\n",
              "      <td>...</td>\n",
              "      <td>...</td>\n",
              "      <td>...</td>\n",
              "      <td>...</td>\n",
              "      <td>...</td>\n",
              "      <td>...</td>\n",
              "    </tr>\n",
              "    <tr>\n",
              "      <th>15542</th>\n",
              "      <td>2008</td>\n",
              "      <td>10</td>\n",
              "      <td>NaN</td>\n",
              "      <td>M</td>\n",
              "      <td>183219</td>\n",
              "      <td>2000</td>\n",
              "    </tr>\n",
              "    <tr>\n",
              "      <th>15543</th>\n",
              "      <td>2008</td>\n",
              "      <td>11</td>\n",
              "      <td>NaN</td>\n",
              "      <td>F</td>\n",
              "      <td>158939</td>\n",
              "      <td>2000</td>\n",
              "    </tr>\n",
              "    <tr>\n",
              "      <th>15544</th>\n",
              "      <td>2008</td>\n",
              "      <td>11</td>\n",
              "      <td>NaN</td>\n",
              "      <td>M</td>\n",
              "      <td>165468</td>\n",
              "      <td>2000</td>\n",
              "    </tr>\n",
              "    <tr>\n",
              "      <th>15545</th>\n",
              "      <td>2008</td>\n",
              "      <td>12</td>\n",
              "      <td>NaN</td>\n",
              "      <td>F</td>\n",
              "      <td>173215</td>\n",
              "      <td>2000</td>\n",
              "    </tr>\n",
              "    <tr>\n",
              "      <th>15546</th>\n",
              "      <td>2008</td>\n",
              "      <td>12</td>\n",
              "      <td>NaN</td>\n",
              "      <td>M</td>\n",
              "      <td>181235</td>\n",
              "      <td>2000</td>\n",
              "    </tr>\n",
              "  </tbody>\n",
              "</table>\n",
              "<p>15547 rows × 6 columns</p>\n",
              "</div>"
            ],
            "text/plain": [
              "       year  month  day gender  births  decade\n",
              "0      1969      1  1.0      F    4046    1960\n",
              "1      1969      1  1.0      M    4440    1960\n",
              "2      1969      1  2.0      F    4454    1960\n",
              "3      1969      1  2.0      M    4548    1960\n",
              "4      1969      1  3.0      F    4548    1960\n",
              "...     ...    ...  ...    ...     ...     ...\n",
              "15542  2008     10  NaN      M  183219    2000\n",
              "15543  2008     11  NaN      F  158939    2000\n",
              "15544  2008     11  NaN      M  165468    2000\n",
              "15545  2008     12  NaN      F  173215    2000\n",
              "15546  2008     12  NaN      M  181235    2000\n",
              "\n",
              "[15547 rows x 6 columns]"
            ]
          },
          "metadata": {},
          "execution_count": 95
        }
      ]
    },
    {
      "cell_type": "code",
      "metadata": {
        "colab": {
          "base_uri": "https://localhost:8080/",
          "height": 235
        },
        "id": "w5SN9HBCjTaY",
        "outputId": "eb2c511e-97c7-466a-dea8-2b973d8db945"
      },
      "source": [
        "births.pivot_table('births', index='decade', columns='gender', aggfunc='sum')"
      ],
      "execution_count": 96,
      "outputs": [
        {
          "output_type": "execute_result",
          "data": {
            "text/html": [
              "<div>\n",
              "<style scoped>\n",
              "    .dataframe tbody tr th:only-of-type {\n",
              "        vertical-align: middle;\n",
              "    }\n",
              "\n",
              "    .dataframe tbody tr th {\n",
              "        vertical-align: top;\n",
              "    }\n",
              "\n",
              "    .dataframe thead th {\n",
              "        text-align: right;\n",
              "    }\n",
              "</style>\n",
              "<table border=\"1\" class=\"dataframe\">\n",
              "  <thead>\n",
              "    <tr style=\"text-align: right;\">\n",
              "      <th>gender</th>\n",
              "      <th>F</th>\n",
              "      <th>M</th>\n",
              "    </tr>\n",
              "    <tr>\n",
              "      <th>decade</th>\n",
              "      <th></th>\n",
              "      <th></th>\n",
              "    </tr>\n",
              "  </thead>\n",
              "  <tbody>\n",
              "    <tr>\n",
              "      <th>1960</th>\n",
              "      <td>1753634</td>\n",
              "      <td>1846572</td>\n",
              "    </tr>\n",
              "    <tr>\n",
              "      <th>1970</th>\n",
              "      <td>16263075</td>\n",
              "      <td>17121550</td>\n",
              "    </tr>\n",
              "    <tr>\n",
              "      <th>1980</th>\n",
              "      <td>18310351</td>\n",
              "      <td>19243452</td>\n",
              "    </tr>\n",
              "    <tr>\n",
              "      <th>1990</th>\n",
              "      <td>19479454</td>\n",
              "      <td>20420553</td>\n",
              "    </tr>\n",
              "    <tr>\n",
              "      <th>2000</th>\n",
              "      <td>18229309</td>\n",
              "      <td>19106428</td>\n",
              "    </tr>\n",
              "  </tbody>\n",
              "</table>\n",
              "</div>"
            ],
            "text/plain": [
              "gender         F         M\n",
              "decade                    \n",
              "1960     1753634   1846572\n",
              "1970    16263075  17121550\n",
              "1980    18310351  19243452\n",
              "1990    19479454  20420553\n",
              "2000    18229309  19106428"
            ]
          },
          "metadata": {},
          "execution_count": 96
        }
      ]
    },
    {
      "cell_type": "code",
      "metadata": {
        "id": "A5gdunSqkgOW"
      },
      "source": [
        ""
      ],
      "execution_count": null,
      "outputs": []
    }
  ]
}