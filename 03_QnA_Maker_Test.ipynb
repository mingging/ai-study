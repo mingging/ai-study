{
  "nbformat": 4,
  "nbformat_minor": 0,
  "metadata": {
    "colab": {
      "name": "03. QnA Maker Test",
      "provenance": []
    },
    "kernelspec": {
      "name": "python3",
      "display_name": "Python 3"
    },
    "language_info": {
      "name": "python"
    }
  },
  "cells": [
    {
      "cell_type": "code",
      "metadata": {
        "id": "_WJMtL2XZcO3"
      },
      "source": [
        "host = 'minqnamaker.azurewebsites.net'"
      ],
      "execution_count": 19,
      "outputs": []
    },
    {
      "cell_type": "code",
      "metadata": {
        "id": "eICnZUDYZ-_a"
      },
      "source": [
        "endpoint_key = 'endpoint key'"
      ],
      "execution_count": 20,
      "outputs": []
    },
    {
      "cell_type": "code",
      "metadata": {
        "id": "HW9kYImSaPaR"
      },
      "source": [
        "kb = 'knowledgebases key'"
      ],
      "execution_count": 21,
      "outputs": []
    },
    {
      "cell_type": "code",
      "metadata": {
        "id": "8txxyj58aZ3V"
      },
      "source": [
        "method = \"/qnamaker/knowledgebases/\" + kb + \"/generateAnswer\""
      ],
      "execution_count": 22,
      "outputs": []
    },
    {
      "cell_type": "code",
      "metadata": {
        "id": "H7XZIGmlatZS"
      },
      "source": [
        "question = { \n",
        "    'question': '시티투어 버스가 타고 싶어요?', \n",
        "    'top': 3 \n",
        "}"
      ],
      "execution_count": 23,
      "outputs": []
    },
    {
      "cell_type": "code",
      "metadata": {
        "id": "bztwomQybViN"
      },
      "source": [
        "def pretty_print (content):\n",
        "# Note: We convert content to and from an object so we can pretty-print it.\n",
        "    return json.dumps(json.loads(content), indent=4)"
      ],
      "execution_count": 24,
      "outputs": []
    },
    {
      "cell_type": "code",
      "metadata": {
        "id": "JGsORr7kbbuy"
      },
      "source": [
        "import http.client, json, urllib.parse"
      ],
      "execution_count": 31,
      "outputs": []
    },
    {
      "cell_type": "code",
      "metadata": {
        "id": "3MYP8pR4bn4b"
      },
      "source": [
        "def get_answers (path, content):\n",
        "    print ('Calling ' + host + path + '.')\n",
        "    headers = {\n",
        "        'Authorization': 'EndpointKey ' + endpoint_key,\n",
        "        'Content-Type': 'application/json',\n",
        "        'Content-Length': len (content)\n",
        "    }\n",
        "    conn = http.client.HTTPSConnection(host)\n",
        "    conn.request (\"POST\", path, content, headers)\n",
        "    response = conn.getresponse ()\n",
        "    return response.read ()"
      ],
      "execution_count": 13,
      "outputs": []
    },
    {
      "cell_type": "code",
      "metadata": {
        "id": "taE3Pwuvb2Pf"
      },
      "source": [
        "content = json.dumps(question)"
      ],
      "execution_count": 16,
      "outputs": []
    },
    {
      "cell_type": "code",
      "metadata": {
        "colab": {
          "base_uri": "https://localhost:8080/",
          "height": 52
        },
        "id": "YtZtGWMTcFTc",
        "outputId": "7011b161-3643-40c0-9e7c-da1dfbc9db75"
      },
      "source": [
        "content"
      ],
      "execution_count": 17,
      "outputs": [
        {
          "output_type": "execute_result",
          "data": {
            "application/vnd.google.colaboratory.intrinsic+json": {
              "type": "string"
            },
            "text/plain": [
              "'{\"question\": \"\\\\uc2dc\\\\ud2f0\\\\ud22c\\\\uc5b4 \\\\ubc84\\\\uc2a4\\\\uac00 \\\\ud0c0\\\\uace0 \\\\uc2f6\\\\uc5b4\\\\uc694?\", \"top\": 3}'"
            ]
          },
          "metadata": {},
          "execution_count": 17
        }
      ]
    },
    {
      "cell_type": "code",
      "metadata": {
        "colab": {
          "base_uri": "https://localhost:8080/"
        },
        "id": "cEKLwUdIcsJ7",
        "outputId": "919eefa8-105f-4261-ae62-dcff6a81ac42"
      },
      "source": [
        "result = get_answers(method, content)"
      ],
      "execution_count": 26,
      "outputs": [
        {
          "output_type": "stream",
          "name": "stdout",
          "text": [
            "Calling minqnamaker.azurewebsites.net/qnamaker/knowledgebases/faa3fed2-d766-4d7c-b8b2-d21c4c54e1a0/generateAnswer.\n"
          ]
        }
      ]
    },
    {
      "cell_type": "code",
      "metadata": {
        "colab": {
          "base_uri": "https://localhost:8080/"
        },
        "id": "qqxj3YnYdQS6",
        "outputId": "fe1fb4fc-6a92-4da6-abea-d3ade31b8789"
      },
      "source": [
        "result"
      ],
      "execution_count": 27,
      "outputs": [
        {
          "output_type": "execute_result",
          "data": {
            "text/plain": [
              "b'{\"answers\":[{\"questions\":[\"\\xec\\x84\\x9c\\xec\\x9a\\xb8\\xec\\x8b\\x9c\\xed\\x8b\\xb0\\xed\\x88\\xac\\xec\\x96\\xb4\\xeb\\xb2\\x84\\xec\\x8a\\xa4_\\xed\\x83\\x91\\xec\\x8a\\xb9 \\xec\\x84\\x9c\\xec\\x9a\\xb8\\xec\\x97\\x90 \\xec\\x9a\\xb4\\xec\\x98\\x81 \\xec\\xa4\\x91\\xec\\x9d\\xb8 \\xec\\x8b\\x9c\\xed\\x8b\\xb0\\xed\\x88\\xac\\xec\\x96\\xb4\\xeb\\xb2\\x84\\xec\\x8a\\xa4\\xeb\\x8a\\x94 \\xeb\\xac\\xb4\\xec\\x97\\x87\\xec\\x9d\\xb4 \\xec\\x9e\\x88\\xeb\\x82\\x98\\xec\\x9a\\x94?\"],\"answer\":\"\\xec\\x84\\x9c\\xec\\x9a\\xb8\\xec\\x97\\x90 \\xec\\x9a\\xb4\\xec\\x98\\x81 \\xec\\xa4\\x91\\xec\\x9d\\xb8 \\xec\\x8b\\x9c\\xed\\x8b\\xb0\\xed\\x88\\xac\\xec\\x96\\xb4\\xeb\\xb2\\x84\\xec\\x8a\\xa4\\xeb\\x8a\\x94 \\xeb\\x91\\x90 \\xed\\x9a\\x8c\\xec\\x82\\xac\\xea\\xb0\\x80 \\xec\\x9e\\x88\\xec\\x8a\\xb5\\xeb\\x8b\\x88\\xeb\\x8b\\xa4.\\xc2\\xa0\\xed\\x95\\x98\\xec\\x9d\\xb4\\xeb\\x8d\\xb0\\xec\\xbb\\xa4 \\xec\\x98\\xa4\\xed\\x94\\x88\\xed\\x83\\x91 \\xeb\\xb2\\x84\\xec\\x8a\\xa4\\xec\\x99\\x80 \\xed\\x8a\\xb8\\xeb\\xa1\\xa4\\xeb\\xa6\\xac \\xeb\\xb2\\x84\\xec\\x8a\\xa4\\xeb\\xa5\\xbc \\xec\\x9a\\xb4\\xec\\x98\\x81\\xed\\x95\\x98\\xeb\\x8a\\x94 \\xed\\x83\\x80\\xec\\x9d\\xb4\\xea\\xb1\\xb0\\xeb\\xb2\\x84\\xec\\x8a\\xa4, 2\\xec\\xb8\\xb5 \\xeb\\xb2\\x84\\xec\\x8a\\xa4\\xeb\\xa5\\xbc \\xec\\x9a\\xb4\\xec\\x98\\x81\\xed\\x95\\x98\\xeb\\x8a\\x94 \\xeb\\x85\\xb8\\xeb\\x9e\\x91\\xed\\x92\\x8d\\xec\\x84\\xa0\\xec\\x8b\\x9c\\xed\\x8b\\xb0\\xeb\\xb2\\x84\\xec\\x8a\\xa4\\xea\\xb0\\x80 \\xec\\x9e\\x88\\xec\\x8a\\xb5\\xeb\\x8b\\x88\\xeb\\x8b\\xa4. (\\xed\\x83\\x80\\xec\\x9d\\xb4\\xea\\xb1\\xb0\\xeb\\xb2\\x84\\xec\\x8a\\xa4: 02-777-6090, \\xeb\\x85\\xb8\\xeb\\x9e\\x91\\xed\\x92\\x8d\\xec\\x84\\xa0\\xec\\x8b\\x9c\\xed\\x8b\\xb0\\xeb\\xb2\\x84\\xec\\x8a\\xa4: 1544-4239)\",\"score\":90.0,\"id\":1,\"source\":\"https://korean.visitseoul.net/faq\",\"isDocumentText\":false,\"metadata\":[],\"context\":{\"isContextOnly\":false,\"prompts\":[]}}],\"activeLearningEnabled\":false}'"
            ]
          },
          "metadata": {},
          "execution_count": 27
        }
      ]
    },
    {
      "cell_type": "code",
      "metadata": {
        "colab": {
          "base_uri": "https://localhost:8080/"
        },
        "id": "0HF1J0sqeViJ",
        "outputId": "51115ce5-1028-4375-bb80-7a95afcd12e3"
      },
      "source": [
        "print (pretty_print(result.decode('UTF-8')))"
      ],
      "execution_count": 28,
      "outputs": [
        {
          "output_type": "stream",
          "name": "stdout",
          "text": [
            "{\n",
            "    \"answers\": [\n",
            "        {\n",
            "            \"questions\": [\n",
            "                \"\\uc11c\\uc6b8\\uc2dc\\ud2f0\\ud22c\\uc5b4\\ubc84\\uc2a4_\\ud0d1\\uc2b9 \\uc11c\\uc6b8\\uc5d0 \\uc6b4\\uc601 \\uc911\\uc778 \\uc2dc\\ud2f0\\ud22c\\uc5b4\\ubc84\\uc2a4\\ub294 \\ubb34\\uc5c7\\uc774 \\uc788\\ub098\\uc694?\"\n",
            "            ],\n",
            "            \"answer\": \"\\uc11c\\uc6b8\\uc5d0 \\uc6b4\\uc601 \\uc911\\uc778 \\uc2dc\\ud2f0\\ud22c\\uc5b4\\ubc84\\uc2a4\\ub294 \\ub450 \\ud68c\\uc0ac\\uac00 \\uc788\\uc2b5\\ub2c8\\ub2e4.\\u00a0\\ud558\\uc774\\ub370\\ucee4 \\uc624\\ud508\\ud0d1 \\ubc84\\uc2a4\\uc640 \\ud2b8\\ub864\\ub9ac \\ubc84\\uc2a4\\ub97c \\uc6b4\\uc601\\ud558\\ub294 \\ud0c0\\uc774\\uac70\\ubc84\\uc2a4, 2\\uce35 \\ubc84\\uc2a4\\ub97c \\uc6b4\\uc601\\ud558\\ub294 \\ub178\\ub791\\ud48d\\uc120\\uc2dc\\ud2f0\\ubc84\\uc2a4\\uac00 \\uc788\\uc2b5\\ub2c8\\ub2e4. (\\ud0c0\\uc774\\uac70\\ubc84\\uc2a4: 02-777-6090, \\ub178\\ub791\\ud48d\\uc120\\uc2dc\\ud2f0\\ubc84\\uc2a4: 1544-4239)\",\n",
            "            \"score\": 90.0,\n",
            "            \"id\": 1,\n",
            "            \"source\": \"https://korean.visitseoul.net/faq\",\n",
            "            \"isDocumentText\": false,\n",
            "            \"metadata\": [],\n",
            "            \"context\": {\n",
            "                \"isContextOnly\": false,\n",
            "                \"prompts\": []\n",
            "            }\n",
            "        }\n",
            "    ],\n",
            "    \"activeLearningEnabled\": false\n",
            "}\n"
          ]
        }
      ]
    },
    {
      "cell_type": "code",
      "metadata": {
        "colab": {
          "base_uri": "https://localhost:8080/",
          "height": 120
        },
        "id": "MAQQEdoDev4R",
        "outputId": "25894349-ea6e-48d8-fc64-5794895a9c0e"
      },
      "source": [
        "result.decode('UTF-8')"
      ],
      "execution_count": 29,
      "outputs": [
        {
          "output_type": "execute_result",
          "data": {
            "application/vnd.google.colaboratory.intrinsic+json": {
              "type": "string"
            },
            "text/plain": [
              "'{\"answers\":[{\"questions\":[\"서울시티투어버스_탑승 서울에 운영 중인 시티투어버스는 무엇이 있나요?\"],\"answer\":\"서울에 운영 중인 시티투어버스는 두 회사가 있습니다.\\xa0하이데커 오픈탑 버스와 트롤리 버스를 운영하는 타이거버스, 2층 버스를 운영하는 노랑풍선시티버스가 있습니다. (타이거버스: 02-777-6090, 노랑풍선시티버스: 1544-4239)\",\"score\":90.0,\"id\":1,\"source\":\"https://korean.visitseoul.net/faq\",\"isDocumentText\":false,\"metadata\":[],\"context\":{\"isContextOnly\":false,\"prompts\":[]}}],\"activeLearningEnabled\":false}'"
            ]
          },
          "metadata": {},
          "execution_count": 29
        }
      ]
    },
    {
      "cell_type": "code",
      "metadata": {
        "id": "hxBGSX2BfGh6"
      },
      "source": [
        ""
      ],
      "execution_count": null,
      "outputs": []
    }
  ]
}